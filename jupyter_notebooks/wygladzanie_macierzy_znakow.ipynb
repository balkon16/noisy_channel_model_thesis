{
 "cells": [
  {
   "cell_type": "markdown",
   "metadata": {},
   "source": [
    "## Wygładzanie macierzy znaków"
   ]
  },
  {
   "cell_type": "code",
   "execution_count": 3,
   "metadata": {},
   "outputs": [],
   "source": [
    "import pickle"
   ]
  },
  {
   "cell_type": "code",
   "execution_count": 4,
   "metadata": {},
   "outputs": [],
   "source": [
    "with open('../pickles/add_matrix.p', 'rb') as file:\n",
    "    add_matrix = pickle.load(file)"
   ]
  },
  {
   "cell_type": "code",
   "execution_count": 6,
   "metadata": {},
   "outputs": [],
   "source": [
    "with open('../pickles/del_matrix.p', 'rb') as file:\n",
    "    del_matrix = pickle.load(file)"
   ]
  },
  {
   "cell_type": "code",
   "execution_count": 7,
   "metadata": {},
   "outputs": [],
   "source": [
    "with open('../pickles/rev_matrix.p', 'rb') as file:\n",
    "    rev_matrix = pickle.load(file)"
   ]
  },
  {
   "cell_type": "code",
   "execution_count": 8,
   "metadata": {},
   "outputs": [],
   "source": [
    "with open('../pickles/sub_matrix.p', 'rb') as file:\n",
    "    sub_matrix = pickle.load(file)"
   ]
  },
  {
   "cell_type": "code",
   "execution_count": 9,
   "metadata": {},
   "outputs": [],
   "source": [
    "with open('../pickles/char_matrix.p', 'rb') as file:\n",
    "    char_matrix = pickle.load(file)"
   ]
  },
  {
   "cell_type": "markdown",
   "metadata": {},
   "source": [
    "Zastosuję wygładzanie za pomocą dodania jedynki do wszystkich obserwacji:"
   ]
  },
  {
   "cell_type": "code",
   "execution_count": 10,
   "metadata": {},
   "outputs": [],
   "source": [
    "def smooth_matrix_laplace(matrix):\n",
    "    \"\"\"Accepts a dataframe.\"\"\"\n",
    "    return matrix.applymap(lambda x: x + 1)"
   ]
  },
  {
   "cell_type": "code",
   "execution_count": 13,
   "metadata": {},
   "outputs": [],
   "source": [
    "add_matrix_smoothed = smooth_matrix_laplace(add_matrix)\n",
    "add_matrix_smoothed.to_pickle('../pickles/add_matrix_smoothed.p')"
   ]
  },
  {
   "cell_type": "code",
   "execution_count": 14,
   "metadata": {},
   "outputs": [],
   "source": [
    "del_matrix_smoothed = smooth_matrix_laplace(del_matrix)\n",
    "del_matrix_smoothed.to_pickle('../pickles/del_matrix_smoothed.p')"
   ]
  },
  {
   "cell_type": "code",
   "execution_count": 15,
   "metadata": {},
   "outputs": [],
   "source": [
    "rev_matrix_smoothed = smooth_matrix_laplace(rev_matrix)\n",
    "rev_matrix_smoothed.to_pickle('../pickles/rev_matrix_smoothed.p')"
   ]
  },
  {
   "cell_type": "code",
   "execution_count": 16,
   "metadata": {},
   "outputs": [],
   "source": [
    "sub_matrix_smoothed = smooth_matrix_laplace(sub_matrix)\n",
    "sub_matrix_smoothed.to_pickle('../pickles/sub_matrix_smoothed.p')"
   ]
  },
  {
   "cell_type": "code",
   "execution_count": 17,
   "metadata": {},
   "outputs": [],
   "source": [
    "char_matrix_smoothed = smooth_matrix_laplace(char_matrix)\n",
    "char_matrix_smoothed.to_pickle('../pickles/char_matrix_smoothed.p')"
   ]
  }
 ],
 "metadata": {
  "kernelspec": {
   "display_name": "Python 3",
   "language": "python",
   "name": "python3"
  },
  "language_info": {
   "codemirror_mode": {
    "name": "ipython",
    "version": 3
   },
   "file_extension": ".py",
   "mimetype": "text/x-python",
   "name": "python",
   "nbconvert_exporter": "python",
   "pygments_lexer": "ipython3",
   "version": "3.6.8"
  }
 },
 "nbformat": 4,
 "nbformat_minor": 2
}
