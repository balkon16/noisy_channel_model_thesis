{
 "cells": [
  {
   "cell_type": "code",
   "execution_count": 2,
   "metadata": {},
   "outputs": [],
   "source": [
    "import pickle\n",
    "import pandas as pd\n",
    "from collections import defaultdict"
   ]
  },
  {
   "cell_type": "markdown",
   "metadata": {},
   "source": [
    "## Statystyki dotyczące korpusu"
   ]
  },
  {
   "cell_type": "markdown",
   "metadata": {},
   "source": [
    "Na korpus składa się tyle plików YAML:"
   ]
  },
  {
   "cell_type": "code",
   "execution_count": 3,
   "metadata": {},
   "outputs": [
    {
     "name": "stdout",
     "output_type": "stream",
     "text": [
      "1348\n"
     ]
    }
   ],
   "source": [
    "!ls -l ./plewic-yaml | egrep '\\.yaml$' | wc -l "
   ]
  },
  {
   "cell_type": "markdown",
   "metadata": {},
   "source": [
    "# Struktura błędu"
   ]
  },
  {
   "cell_type": "markdown",
   "metadata": {},
   "source": [
    "Każda edycja dotycząca poprawienia błędu jest zapisana w oddzielnym segmencie pliku tekstowego:"
   ]
  },
  {
   "cell_type": "raw",
   "metadata": {},
   "source": [
    "- :title: Kwas cytrynowy\n",
    "  :user: Polimerek\n",
    "  :comment: ''\n",
    "  :revision: '482208'\n",
    "- !ruby/object:Plerrex::EditedText\n",
    "  text: Kwas cytrynowy występuje w niewielkich ilościach we większości organizmów\n",
    "    żywych, gdyż spełnia ważną rolę w ich metabolizmie - jest ważnym intermediatem\n",
    "    w cyklu Krebsa (zwanym stąd cyklem kwasu cytrynowego).\n",
    "  new_text: Kwas cytrynowy występuje w niewielkich ilościach w większości organizmów\n",
    "    żywych, gdyż spełnia ważną rolę w ich metabolizmie - jest ważnym produktem przejściowym\n",
    "    w cyklu Krebsa (zwanym stąd cyklem kwasu cytrynowego).\n",
    "  attributes:\n",
    "    :valid_sentence: true\n",
    "  errors:\n",
    "  - !ruby/object:Plerrex::ErrorCorrection\n",
    "    error: we\n",
    "    correction: w\n",
    "    position: 6\n",
    "    attributes:\n",
    "      :type: :realword\n",
    "      :distance: 1\n",
    "      :category: przyimek"
   ]
  },
  {
   "cell_type": "markdown",
   "metadata": {},
   "source": [
    "`text` poprzedza błędny zapis, natomiast `new_text` poprawiony zapis. `valid_sentence` oznacza (raczej) to czy zaobserwowano zdanie (`true`) czy równoważnik zdania (`false`). `type` odnosi się do tego czy analizowany błąd jest rzeczywistym słowem (`realword`) czy nieistniejącym (`nonword`)."
   ]
  },
  {
   "cell_type": "markdown",
   "metadata": {},
   "source": [
    "## Kategorie błędów"
   ]
  },
  {
   "cell_type": "markdown",
   "metadata": {},
   "source": [
    "Poniżej tworzę listę unikalnych wartości `category`:"
   ]
  },
  {
   "cell_type": "code",
   "execution_count": 2,
   "metadata": {},
   "outputs": [],
   "source": [
    "stats = pickle.load(open(\"../pickles/stats_corpus.p\", \"rb\"))"
   ]
  },
  {
   "cell_type": "markdown",
   "metadata": {},
   "source": [
    "W korpusie wyróżnia się m.in. `valid_sentence`, czyli pełne zdania. Stanowią one:"
   ]
  },
  {
   "cell_type": "code",
   "execution_count": 4,
   "metadata": {},
   "outputs": [
    {
     "data": {
      "text/plain": [
       "0.8509097441089537"
      ]
     },
     "execution_count": 4,
     "metadata": {},
     "output_type": "execute_result"
    }
   ],
   "source": [
    "stats['valid_sentence']/stats['total_sentences']"
   ]
  },
  {
   "cell_type": "markdown",
   "metadata": {},
   "source": [
    "Ramka danych dla poszczególnych kategorii:"
   ]
  },
  {
   "cell_type": "code",
   "execution_count": 5,
   "metadata": {},
   "outputs": [],
   "source": [
    "categories = [category for category in stats['categories']]\n",
    "counts = [stats['categories'][category] for category in stats['categories']]"
   ]
  },
  {
   "cell_type": "code",
   "execution_count": 6,
   "metadata": {},
   "outputs": [],
   "source": [
    "category_count = {'category': categories, 'count': counts}\n",
    "\n",
    "category_count_df = pd.DataFrame(data=category_count)"
   ]
  },
  {
   "cell_type": "code",
   "execution_count": 8,
   "metadata": {},
   "outputs": [
    {
     "data": {
      "text/html": [
       "<div>\n",
       "<style scoped>\n",
       "    .dataframe tbody tr th:only-of-type {\n",
       "        vertical-align: middle;\n",
       "    }\n",
       "\n",
       "    .dataframe tbody tr th {\n",
       "        vertical-align: top;\n",
       "    }\n",
       "\n",
       "    .dataframe thead th {\n",
       "        text-align: right;\n",
       "    }\n",
       "</style>\n",
       "<table border=\"1\" class=\"dataframe\">\n",
       "  <thead>\n",
       "    <tr style=\"text-align: right;\">\n",
       "      <th></th>\n",
       "      <th>category</th>\n",
       "      <th>count</th>\n",
       "    </tr>\n",
       "  </thead>\n",
       "  <tbody>\n",
       "    <tr>\n",
       "      <th>0</th>\n",
       "      <td>fleksja</td>\n",
       "      <td>121188</td>\n",
       "    </tr>\n",
       "    <tr>\n",
       "      <th>1</th>\n",
       "      <td>semantyka/styl</td>\n",
       "      <td>4744</td>\n",
       "    </tr>\n",
       "    <tr>\n",
       "      <th>2</th>\n",
       "      <td>wielkość liter</td>\n",
       "      <td>220341</td>\n",
       "    </tr>\n",
       "    <tr>\n",
       "      <th>3</th>\n",
       "      <td>pisownia</td>\n",
       "      <td>328779</td>\n",
       "    </tr>\n",
       "    <tr>\n",
       "      <th>4</th>\n",
       "      <td>fleksja/czas</td>\n",
       "      <td>23552</td>\n",
       "    </tr>\n",
       "    <tr>\n",
       "      <th>5</th>\n",
       "      <td>pisownia/prawdopodobnie</td>\n",
       "      <td>27752</td>\n",
       "    </tr>\n",
       "    <tr>\n",
       "      <th>6</th>\n",
       "      <td>interpunkcja</td>\n",
       "      <td>308508</td>\n",
       "    </tr>\n",
       "    <tr>\n",
       "      <th>7</th>\n",
       "      <td>znaki diakrytyczne</td>\n",
       "      <td>202135</td>\n",
       "    </tr>\n",
       "    <tr>\n",
       "      <th>8</th>\n",
       "      <td>przyimek</td>\n",
       "      <td>56848</td>\n",
       "    </tr>\n",
       "    <tr>\n",
       "      <th>9</th>\n",
       "      <td>spójnik</td>\n",
       "      <td>24209</td>\n",
       "    </tr>\n",
       "    <tr>\n",
       "      <th>10</th>\n",
       "      <td>nierozpoznany</td>\n",
       "      <td>156911</td>\n",
       "    </tr>\n",
       "    <tr>\n",
       "      <th>11</th>\n",
       "      <td>styl</td>\n",
       "      <td>24830</td>\n",
       "    </tr>\n",
       "    <tr>\n",
       "      <th>12</th>\n",
       "      <td>notacja/skrót</td>\n",
       "      <td>17350</td>\n",
       "    </tr>\n",
       "    <tr>\n",
       "      <th>13</th>\n",
       "      <td>składnia</td>\n",
       "      <td>19429</td>\n",
       "    </tr>\n",
       "    <tr>\n",
       "      <th>14</th>\n",
       "      <td>fleksja/liczba</td>\n",
       "      <td>19741</td>\n",
       "    </tr>\n",
       "    <tr>\n",
       "      <th>15</th>\n",
       "      <td>semantyka</td>\n",
       "      <td>50775</td>\n",
       "    </tr>\n",
       "    <tr>\n",
       "      <th>16</th>\n",
       "      <td>znaki diakrytyczne/kontekst</td>\n",
       "      <td>39488</td>\n",
       "    </tr>\n",
       "    <tr>\n",
       "      <th>17</th>\n",
       "      <td>semantyka/aspekt</td>\n",
       "      <td>13609</td>\n",
       "    </tr>\n",
       "    <tr>\n",
       "      <th>18</th>\n",
       "      <td>pisownia łączna i rozłączna</td>\n",
       "      <td>13769</td>\n",
       "    </tr>\n",
       "    <tr>\n",
       "      <th>19</th>\n",
       "      <td>notacja/rok</td>\n",
       "      <td>16146</td>\n",
       "    </tr>\n",
       "    <tr>\n",
       "      <th>20</th>\n",
       "      <td>się</td>\n",
       "      <td>3689</td>\n",
       "    </tr>\n",
       "    <tr>\n",
       "      <th>21</th>\n",
       "      <td>zaimek</td>\n",
       "      <td>9709</td>\n",
       "    </tr>\n",
       "    <tr>\n",
       "      <th>22</th>\n",
       "      <td>ilość-liczba</td>\n",
       "      <td>3448</td>\n",
       "    </tr>\n",
       "    <tr>\n",
       "      <th>23</th>\n",
       "      <td>notacja/wiek</td>\n",
       "      <td>5270</td>\n",
       "    </tr>\n",
       "    <tr>\n",
       "      <th>24</th>\n",
       "      <td>semantyka/stopień</td>\n",
       "      <td>142</td>\n",
       "    </tr>\n",
       "  </tbody>\n",
       "</table>\n",
       "</div>"
      ],
      "text/plain": [
       "                       category   count\n",
       "0                       fleksja  121188\n",
       "1                semantyka/styl    4744\n",
       "2                wielkość liter  220341\n",
       "3                      pisownia  328779\n",
       "4                  fleksja/czas   23552\n",
       "5       pisownia/prawdopodobnie   27752\n",
       "6                  interpunkcja  308508\n",
       "7            znaki diakrytyczne  202135\n",
       "8                      przyimek   56848\n",
       "9                       spójnik   24209\n",
       "10                nierozpoznany  156911\n",
       "11                         styl   24830\n",
       "12                notacja/skrót   17350\n",
       "13                     składnia   19429\n",
       "14               fleksja/liczba   19741\n",
       "15                    semantyka   50775\n",
       "16  znaki diakrytyczne/kontekst   39488\n",
       "17             semantyka/aspekt   13609\n",
       "18  pisownia łączna i rozłączna   13769\n",
       "19                  notacja/rok   16146\n",
       "20                          się    3689\n",
       "21                       zaimek    9709\n",
       "22                 ilość-liczba    3448\n",
       "23                 notacja/wiek    5270\n",
       "24            semantyka/stopień     142"
      ]
     },
     "execution_count": 8,
     "metadata": {},
     "output_type": "execute_result"
    }
   ],
   "source": [
    "category_count_df"
   ]
  },
  {
   "cell_type": "code",
   "execution_count": 10,
   "metadata": {},
   "outputs": [
    {
     "data": {
      "text/html": [
       "<div>\n",
       "<style scoped>\n",
       "    .dataframe tbody tr th:only-of-type {\n",
       "        vertical-align: middle;\n",
       "    }\n",
       "\n",
       "    .dataframe tbody tr th {\n",
       "        vertical-align: top;\n",
       "    }\n",
       "\n",
       "    .dataframe thead th {\n",
       "        text-align: right;\n",
       "    }\n",
       "</style>\n",
       "<table border=\"1\" class=\"dataframe\">\n",
       "  <thead>\n",
       "    <tr style=\"text-align: right;\">\n",
       "      <th></th>\n",
       "      <th>category</th>\n",
       "      <th>count</th>\n",
       "    </tr>\n",
       "  </thead>\n",
       "  <tbody>\n",
       "    <tr>\n",
       "      <th>3</th>\n",
       "      <td>pisownia</td>\n",
       "      <td>328779</td>\n",
       "    </tr>\n",
       "    <tr>\n",
       "      <th>6</th>\n",
       "      <td>interpunkcja</td>\n",
       "      <td>308508</td>\n",
       "    </tr>\n",
       "    <tr>\n",
       "      <th>2</th>\n",
       "      <td>wielkość liter</td>\n",
       "      <td>220341</td>\n",
       "    </tr>\n",
       "    <tr>\n",
       "      <th>7</th>\n",
       "      <td>znaki diakrytyczne</td>\n",
       "      <td>202135</td>\n",
       "    </tr>\n",
       "    <tr>\n",
       "      <th>10</th>\n",
       "      <td>nierozpoznany</td>\n",
       "      <td>156911</td>\n",
       "    </tr>\n",
       "    <tr>\n",
       "      <th>0</th>\n",
       "      <td>fleksja</td>\n",
       "      <td>121188</td>\n",
       "    </tr>\n",
       "    <tr>\n",
       "      <th>8</th>\n",
       "      <td>przyimek</td>\n",
       "      <td>56848</td>\n",
       "    </tr>\n",
       "    <tr>\n",
       "      <th>15</th>\n",
       "      <td>semantyka</td>\n",
       "      <td>50775</td>\n",
       "    </tr>\n",
       "    <tr>\n",
       "      <th>16</th>\n",
       "      <td>znaki diakrytyczne/kontekst</td>\n",
       "      <td>39488</td>\n",
       "    </tr>\n",
       "    <tr>\n",
       "      <th>5</th>\n",
       "      <td>pisownia/prawdopodobnie</td>\n",
       "      <td>27752</td>\n",
       "    </tr>\n",
       "    <tr>\n",
       "      <th>11</th>\n",
       "      <td>styl</td>\n",
       "      <td>24830</td>\n",
       "    </tr>\n",
       "    <tr>\n",
       "      <th>9</th>\n",
       "      <td>spójnik</td>\n",
       "      <td>24209</td>\n",
       "    </tr>\n",
       "    <tr>\n",
       "      <th>4</th>\n",
       "      <td>fleksja/czas</td>\n",
       "      <td>23552</td>\n",
       "    </tr>\n",
       "    <tr>\n",
       "      <th>14</th>\n",
       "      <td>fleksja/liczba</td>\n",
       "      <td>19741</td>\n",
       "    </tr>\n",
       "    <tr>\n",
       "      <th>13</th>\n",
       "      <td>składnia</td>\n",
       "      <td>19429</td>\n",
       "    </tr>\n",
       "    <tr>\n",
       "      <th>12</th>\n",
       "      <td>notacja/skrót</td>\n",
       "      <td>17350</td>\n",
       "    </tr>\n",
       "    <tr>\n",
       "      <th>19</th>\n",
       "      <td>notacja/rok</td>\n",
       "      <td>16146</td>\n",
       "    </tr>\n",
       "    <tr>\n",
       "      <th>18</th>\n",
       "      <td>pisownia łączna i rozłączna</td>\n",
       "      <td>13769</td>\n",
       "    </tr>\n",
       "    <tr>\n",
       "      <th>17</th>\n",
       "      <td>semantyka/aspekt</td>\n",
       "      <td>13609</td>\n",
       "    </tr>\n",
       "    <tr>\n",
       "      <th>21</th>\n",
       "      <td>zaimek</td>\n",
       "      <td>9709</td>\n",
       "    </tr>\n",
       "    <tr>\n",
       "      <th>23</th>\n",
       "      <td>notacja/wiek</td>\n",
       "      <td>5270</td>\n",
       "    </tr>\n",
       "    <tr>\n",
       "      <th>1</th>\n",
       "      <td>semantyka/styl</td>\n",
       "      <td>4744</td>\n",
       "    </tr>\n",
       "    <tr>\n",
       "      <th>20</th>\n",
       "      <td>się</td>\n",
       "      <td>3689</td>\n",
       "    </tr>\n",
       "    <tr>\n",
       "      <th>22</th>\n",
       "      <td>ilość-liczba</td>\n",
       "      <td>3448</td>\n",
       "    </tr>\n",
       "    <tr>\n",
       "      <th>24</th>\n",
       "      <td>semantyka/stopień</td>\n",
       "      <td>142</td>\n",
       "    </tr>\n",
       "  </tbody>\n",
       "</table>\n",
       "</div>"
      ],
      "text/plain": [
       "                       category   count\n",
       "3                      pisownia  328779\n",
       "6                  interpunkcja  308508\n",
       "2                wielkość liter  220341\n",
       "7            znaki diakrytyczne  202135\n",
       "10                nierozpoznany  156911\n",
       "0                       fleksja  121188\n",
       "8                      przyimek   56848\n",
       "15                    semantyka   50775\n",
       "16  znaki diakrytyczne/kontekst   39488\n",
       "5       pisownia/prawdopodobnie   27752\n",
       "11                         styl   24830\n",
       "9                       spójnik   24209\n",
       "4                  fleksja/czas   23552\n",
       "14               fleksja/liczba   19741\n",
       "13                     składnia   19429\n",
       "12                notacja/skrót   17350\n",
       "19                  notacja/rok   16146\n",
       "18  pisownia łączna i rozłączna   13769\n",
       "17             semantyka/aspekt   13609\n",
       "21                       zaimek    9709\n",
       "23                 notacja/wiek    5270\n",
       "1                semantyka/styl    4744\n",
       "20                          się    3689\n",
       "22                 ilość-liczba    3448\n",
       "24            semantyka/stopień     142"
      ]
     },
     "execution_count": 10,
     "metadata": {},
     "output_type": "execute_result"
    }
   ],
   "source": [
    "category_count_df.sort_values(by='count', ascending=False)"
   ]
  },
  {
   "cell_type": "code",
   "execution_count": 11,
   "metadata": {},
   "outputs": [],
   "source": [
    "category_count_df.sort_values(by='count', ascending=False).to_csv('./plik.csv')"
   ]
  },
  {
   "cell_type": "code",
   "execution_count": 14,
   "metadata": {},
   "outputs": [],
   "source": [
    "category_count_df.sort_values(by='count', ascending=False).to_latex('./tabelka.tex', index=False)"
   ]
  },
  {
   "cell_type": "markdown",
   "metadata": {},
   "source": [
    "Błędy oznaczone przez kategorię `'pisownia'` to tak zwane literówki, np. 'nekiedy' zamiast 'niekiedy'. Sprawdzam jaki dystans edycji dla tej kategorii (spodziewam się 1 lub 2):"
   ]
  },
  {
   "cell_type": "markdown",
   "metadata": {},
   "source": [
    "Wczytanie pliku, któr zawiera wszystkie poprawki w formie słownika:"
   ]
  },
  {
   "cell_type": "code",
   "execution_count": 3,
   "metadata": {},
   "outputs": [],
   "source": [
    "revision_files = pickle.load(open(\"../pickles/plewic_files_as_lists.p\", \"rb\"))"
   ]
  },
  {
   "cell_type": "markdown",
   "metadata": {},
   "source": [
    "Długość słownika odpowiada liczbie plików `'plewic*'` w folderze:"
   ]
  },
  {
   "cell_type": "code",
   "execution_count": 4,
   "metadata": {},
   "outputs": [
    {
     "data": {
      "text/plain": [
       "1348"
      ]
     },
     "execution_count": 4,
     "metadata": {},
     "output_type": "execute_result"
    }
   ],
   "source": [
    "len(revision_files)"
   ]
  },
  {
   "cell_type": "markdown",
   "metadata": {},
   "source": [
    "Przykładowy plik zapisany w postaci listy słowników, gdzie każdy słownik to jedna poprawka:"
   ]
  },
  {
   "cell_type": "code",
   "execution_count": 13,
   "metadata": {},
   "outputs": [
    {
     "data": {
      "text/plain": [
       "list"
      ]
     },
     "execution_count": 13,
     "metadata": {},
     "output_type": "execute_result"
    }
   ],
   "source": [
    "type(revision_files['plewic.09.0057.yaml'])"
   ]
  },
  {
   "cell_type": "code",
   "execution_count": 14,
   "metadata": {},
   "outputs": [
    {
     "data": {
      "text/plain": [
       "dict"
      ]
     },
     "execution_count": 14,
     "metadata": {},
     "output_type": "execute_result"
    }
   ],
   "source": [
    "type(revision_files['plewic.09.0057.yaml'][0])"
   ]
  },
  {
   "cell_type": "markdown",
   "metadata": {},
   "source": [
    "Dla `valid_sentence` jest distance tzn. ile edycji trzeba dokonać, żeby przejść od błędu do poprawnego rozwiązania:"
   ]
  },
  {
   "cell_type": "code",
   "execution_count": 15,
   "metadata": {},
   "outputs": [
    {
     "data": {
      "text/plain": [
       "{'text': '仁徳天皇|Nintoku tennō -– 16. cesarz Japonii według tradycyjnego porządku dziedziczenia.',\n",
       " 'new_text': '仁徳天皇|Nintoku tennō -– 16. cesarz Japonii, według tradycyjnego porządku dziedziczenia.',\n",
       " 'valid_sentence': False,\n",
       " 'errors': [{'error': 'Japonii',\n",
       "   'correction': 'Japonii,',\n",
       "   'position': '5',\n",
       "   'attributes': {'category': 'interpunkcja'}}]}"
      ]
     },
     "execution_count": 15,
     "metadata": {},
     "output_type": "execute_result"
    }
   ],
   "source": [
    "revision_files['plewic.09.0057.yaml'][4]"
   ]
  },
  {
   "cell_type": "code",
   "execution_count": 16,
   "metadata": {},
   "outputs": [
    {
     "data": {
      "text/plain": [
       "{'text': 'Razem z nim przemieszczał się z miejsca na miejce i ukrywał.',\n",
       " 'new_text': 'Razem z nim przemieszczał się z miejsca na miejsce i ukrywał.',\n",
       " 'valid_sentence': True,\n",
       " 'errors': [{'error': 'miejce',\n",
       "   'correction': 'miejsce',\n",
       "   'position': '8',\n",
       "   'attributes': {'type': 'nonword',\n",
       "    'distance': '1',\n",
       "    'category': 'pisownia'}}]}"
      ]
     },
     "execution_count": 16,
     "metadata": {},
     "output_type": "execute_result"
    }
   ],
   "source": [
    "revision_files['plewic.09.0057.yaml'][49]"
   ]
  },
  {
   "cell_type": "markdown",
   "metadata": {},
   "source": [
    "Sprawdzam jaką część literówek stanowią non-words oraz real-words:"
   ]
  },
  {
   "cell_type": "code",
   "execution_count": 17,
   "metadata": {},
   "outputs": [],
   "source": [
    "distance_sum = defaultdict(int)\n",
    "count = defaultdict(int)\n",
    "\n",
    "max_distance = 0\n",
    "max_distance_revision = {}\n",
    "\n",
    "for filename, file_revision_list in revision_files.items():\n",
    "    for revision_dict in file_revision_list:\n",
    "        try:\n",
    "            for error in revision_dict['errors']:\n",
    "                if error['attributes']['category'] in ['pisownia', 'pisownia/prawdopodobnie']:\n",
    "                    distance_sum[error['attributes']['type']] += int(error['attributes']['distance'])\n",
    "                    if int(error['attributes']['distance']) > max_distance:\n",
    "                        max_distance_revision = revision_dict\n",
    "                    max_distance = max(int(error['attributes']['distance']), max_distance)\n",
    "                    count[error['attributes']['type']] += 1\n",
    "        except KeyError:\n",
    "            print(filename)\n",
    "            print(revision_dict)"
   ]
  },
  {
   "cell_type": "markdown",
   "metadata": {},
   "source": [
    "Okazuje się, że w literówkach (błędy pisowni) występuje właściwie tylko nie-słowa (nonwords):"
   ]
  },
  {
   "cell_type": "code",
   "execution_count": 18,
   "metadata": {},
   "outputs": [
    {
     "data": {
      "text/plain": [
       "defaultdict(int, {'nonword': 356338, 'multiword': 81, 'unknown': 112})"
      ]
     },
     "execution_count": 18,
     "metadata": {},
     "output_type": "execute_result"
    }
   ],
   "source": [
    "count"
   ]
  },
  {
   "cell_type": "markdown",
   "metadata": {},
   "source": [
    "Średni dystans edycji wynosi:"
   ]
  },
  {
   "cell_type": "code",
   "execution_count": 19,
   "metadata": {},
   "outputs": [
    {
     "data": {
      "text/plain": [
       "1.2127109654316968"
      ]
     },
     "execution_count": 19,
     "metadata": {},
     "output_type": "execute_result"
    }
   ],
   "source": [
    "distance_sum['nonword']/count['nonword']"
   ]
  },
  {
   "cell_type": "markdown",
   "metadata": {},
   "source": [
    "Poniższy zmiana pokazuje, że niebezpiecznie jest uznawać kategorię `pisownia/prawdopodobnie` za `pisownia`. Aby temu zaradzić będę stosował warunek, że żeby zostać uznanym za `pisownia` będąc w `pisownia/prawdopodobnie` błąd musi mieć dystans edycji co najwyżej 2."
   ]
  },
  {
   "cell_type": "code",
   "execution_count": 20,
   "metadata": {},
   "outputs": [
    {
     "data": {
      "text/plain": [
       "{'text': 'standard powinień określać mechanizmy autentykacji oraz szyfrowania w celu zapewnienia integralności systemu oraz ochrony danych przesyłanych przez użytkownika',\n",
       " 'new_text': 'standard powinien określać mechanizmy uwierzytelniania oraz szyfrowania w celu zapewnienia integralności systemu oraz ochrony danych przesyłanych przez użytkownika',\n",
       " 'valid_sentence': False,\n",
       " 'errors': [{'error': 'powinień',\n",
       "   'correction': 'powinien',\n",
       "   'position': '1',\n",
       "   'attributes': {'type': 'nonword',\n",
       "    'distance': '1',\n",
       "    'category': 'znaki diakrytyczne'}},\n",
       "  {'error': 'autentykacji',\n",
       "   'correction': 'uwierzytelniania',\n",
       "   'position': '4',\n",
       "   'attributes': {'type': 'nonword',\n",
       "    'distance': '13',\n",
       "    'category': 'pisownia/prawdopodobnie'}}]}"
      ]
     },
     "execution_count": 20,
     "metadata": {},
     "output_type": "execute_result"
    }
   ],
   "source": [
    "max_distance_revision"
   ]
  },
  {
   "cell_type": "markdown",
   "metadata": {},
   "source": [
    "Realword errors należy szukać w innych kategoriach: `nierozpoznany`, `semantyka`, `pisownia/prawdopodobnie`:"
   ]
  },
  {
   "cell_type": "code",
   "execution_count": 21,
   "metadata": {},
   "outputs": [],
   "source": [
    "distance_sum = defaultdict(int)\n",
    "count = defaultdict(int)\n",
    "\n",
    "max_distance = 0\n",
    "max_distance_revision = {}\n",
    "\n",
    "for filename, file_revision_list in revision_files.items():\n",
    "    for revision_dict in file_revision_list:\n",
    "        try:\n",
    "            for error in revision_dict['errors']:\n",
    "                if error['attributes']['category'] in ['semantyka']:\n",
    "                    distance_sum[error['attributes']['type']] += int(error['attributes']['distance'])\n",
    "                    if int(error['attributes']['distance']) > max_distance:\n",
    "                        max_distance_revision = revision_dict\n",
    "                    max_distance = max(int(error['attributes']['distance']), max_distance)\n",
    "                    count[error['attributes']['type']] += 1\n",
    "        except KeyError:\n",
    "            print(filename)\n",
    "            print(revision_dict)"
   ]
  },
  {
   "cell_type": "code",
   "execution_count": 22,
   "metadata": {},
   "outputs": [
    {
     "data": {
      "text/plain": [
       "defaultdict(int, {'realword': 84916})"
      ]
     },
     "execution_count": 22,
     "metadata": {},
     "output_type": "execute_result"
    }
   ],
   "source": [
    "distance_sum"
   ]
  },
  {
   "cell_type": "code",
   "execution_count": 23,
   "metadata": {},
   "outputs": [
    {
     "data": {
      "text/plain": [
       "defaultdict(int, {'realword': 50775})"
      ]
     },
     "execution_count": 23,
     "metadata": {},
     "output_type": "execute_result"
    }
   ],
   "source": [
    "count"
   ]
  }
 ],
 "metadata": {
  "kernelspec": {
   "display_name": "Python 3",
   "language": "python",
   "name": "python3"
  },
  "language_info": {
   "codemirror_mode": {
    "name": "ipython",
    "version": 3
   },
   "file_extension": ".py",
   "mimetype": "text/x-python",
   "name": "python",
   "nbconvert_exporter": "python",
   "pygments_lexer": "ipython3",
   "version": "3.6.8"
  }
 },
 "nbformat": 4,
 "nbformat_minor": 2
}
