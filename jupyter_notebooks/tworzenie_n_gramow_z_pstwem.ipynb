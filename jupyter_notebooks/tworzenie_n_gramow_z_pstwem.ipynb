{
 "cells": [
  {
   "cell_type": "code",
   "execution_count": 2,
   "metadata": {},
   "outputs": [],
   "source": [
    "import pickle\n",
    "import sys\n",
    "from collections import defaultdict\n",
    "import dill"
   ]
  },
  {
   "cell_type": "markdown",
   "metadata": {},
   "source": [
    "Załadowanie plików zawierających częstości występowania dla modelu jedno- oraz dwugramowego:"
   ]
  },
  {
   "cell_type": "code",
   "execution_count": 3,
   "metadata": {},
   "outputs": [],
   "source": [
    "with open('../pickles/one_gram_model.p', 'rb') as file:\n",
    "    one_gram_dict = pickle.load(file)"
   ]
  },
  {
   "cell_type": "code",
   "execution_count": 4,
   "metadata": {},
   "outputs": [],
   "source": [
    "with open('../pickles/two_gram_model.p', 'rb') as file:\n",
    "    two_gram_dict = pickle.load(file)"
   ]
  },
  {
   "cell_type": "markdown",
   "metadata": {},
   "source": [
    "Przekształcam słownik dwugramowy w formę podwójnych kluczy:\n",
    "\n",
    "{'się w' : 100,...} -> {'się' {'w': 100}}"
   ]
  },
  {
   "cell_type": "code",
   "execution_count": 10,
   "metadata": {},
   "outputs": [
    {
     "data": {
      "text/plain": [
       "False"
      ]
     },
     "execution_count": 10,
     "metadata": {},
     "output_type": "execute_result"
    }
   ],
   "source": [
    "two_gram_dict_two_step = defaultdict(int)\n",
    "isinstance(two_gram_dict_two_step['się'], dict)"
   ]
  },
  {
   "cell_type": "code",
   "execution_count": 5,
   "metadata": {},
   "outputs": [],
   "source": [
    "two_gram_dict_two_step = defaultdict(int)\n",
    "\n",
    "for bigram, count in two_gram_dict.items():\n",
    "    first, second = bigram.split(' ')\n",
    "    try:\n",
    "        two_gram_dict_two_step[first][second] += count\n",
    "    except TypeError:\n",
    "        two_gram_dict_two_step[first] = defaultdict(int)\n",
    "        two_gram_dict_two_step[first][second] += count\n"
   ]
  },
  {
   "cell_type": "markdown",
   "metadata": {},
   "source": [
    "Poniższy przykład pokazuje, że oba modele (1- oraz 2-gramowy) należy oszacować oddzielnie. Ynnymy słowy prawdopodbieństwo wystąpienia jednego ze słów z modelu dwugramowego nie może zostać oszacowane na podstawie jego wartości w modelu jednogramowym:"
   ]
  },
  {
   "cell_type": "code",
   "execution_count": 12,
   "metadata": {},
   "outputs": [
    {
     "data": {
      "text/plain": [
       "4332853"
      ]
     },
     "execution_count": 12,
     "metadata": {},
     "output_type": "execute_result"
    }
   ],
   "source": [
    "one_gram_dict['się']"
   ]
  },
  {
   "cell_type": "code",
   "execution_count": 6,
   "metadata": {},
   "outputs": [
    {
     "data": {
      "text/plain": [
       "4079294"
      ]
     },
     "execution_count": 6,
     "metadata": {},
     "output_type": "execute_result"
    }
   ],
   "source": [
    "sum(two_gram_dict_two_step['się'].values())"
   ]
  },
  {
   "cell_type": "code",
   "execution_count": 7,
   "metadata": {},
   "outputs": [],
   "source": [
    "two_gram_dict_two_step_probs = defaultdict(float)\n",
    "\n",
    "for first_key, dictionary in two_gram_dict_two_step.items():\n",
    "    two_gram_dict_two_step_probs[first_key] = defaultdict(float)\n",
    "    for second_key, count in two_gram_dict_two_step[first_key].items():\n",
    "        denominator = sum(two_gram_dict_two_step[first_key].values())\n",
    "        prob = count / denominator\n",
    "        two_gram_dict_two_step_probs[first_key][second_key] = prob\n",
    "    "
   ]
  },
  {
   "cell_type": "markdown",
   "metadata": {},
   "source": [
    "Zapisanie modelu do pliku:"
   ]
  },
  {
   "cell_type": "code",
   "execution_count": 20,
   "metadata": {},
   "outputs": [],
   "source": [
    "with open('../pickles/two_gram_probs.p', 'wb') as file:\n",
    "    pickle.dump(two_gram_dict_two_step_probs, file, protocol=pickle.HIGHEST_PROTOCOL)"
   ]
  },
  {
   "cell_type": "markdown",
   "metadata": {},
   "source": [
    "Używam wygładzania Laplace'a. Słownik inicjuję wartością słowa, które wystąpiło tylko raz. Jako, że jest wygładzanie to słowo, które wystąpiło tylko raz to tak naprawdę słowo, które nie wystąpiło wcale:"
   ]
  },
  {
   "cell_type": "code",
   "execution_count": 72,
   "metadata": {},
   "outputs": [],
   "source": [
    "no_of_words = len(one_gram_dict.keys())\n",
    "basic_denominator = sum(one_gram_dict.values()) #denominator before smoothing being applied\n",
    "\n",
    "default_value = float(1/(no_of_words+basic_denominator))\n",
    "\n",
    "one_gram_dict_probs = defaultdict(lambda: default_value)\n",
    "\n",
    "for word, count in one_gram_dict.items():\n",
    "    one_gram_dict_probs[word] = (count+1) / (basic_denominator+no_of_words)"
   ]
  },
  {
   "cell_type": "markdown",
   "metadata": {},
   "source": [
    "Zapisanie modelu do pliku:"
   ]
  },
  {
   "cell_type": "code",
   "execution_count": 75,
   "metadata": {},
   "outputs": [],
   "source": [
    "with open('../pickles/one_gram_probs.p', 'wb') as file:\n",
    "    dill.dump(one_gram_dict_probs, file, protocol=dill.HIGHEST_PROTOCOL)"
   ]
  }
 ],
 "metadata": {
  "kernelspec": {
   "display_name": "Python 3",
   "language": "python",
   "name": "python3"
  },
  "language_info": {
   "codemirror_mode": {
    "name": "ipython",
    "version": 3
   },
   "file_extension": ".py",
   "mimetype": "text/x-python",
   "name": "python",
   "nbconvert_exporter": "python",
   "pygments_lexer": "ipython3",
   "version": "3.6.8"
  }
 },
 "nbformat": 4,
 "nbformat_minor": 2
}
