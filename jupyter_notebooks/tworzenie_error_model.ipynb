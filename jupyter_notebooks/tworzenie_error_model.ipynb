{
 "cells": [
  {
   "cell_type": "markdown",
   "metadata": {},
   "source": [
    "## Tworzenie error model - 25.05.2019"
   ]
  },
  {
   "cell_type": "code",
   "execution_count": 1,
   "metadata": {},
   "outputs": [],
   "source": [
    "import pickle\n",
    "from collections import defaultdict\n",
    "import string\n",
    "import pandas as pd\n",
    "import numpy as np\n",
    "import copy"
   ]
  },
  {
   "cell_type": "markdown",
   "metadata": {},
   "source": [
    "Operacje jakie będę wykonywał. Logika według artykułu Kernighan 1990:\n",
    "\n",
    "1. Deletion:\n",
    "\n",
    "Badam `correction`. Interesujące mnie litery to ta, która stoi przed usuwaną (`correction[nums[0]-1]`) oraz ta usunięta (`correction[nums[0]]`). Jeżeli `nums[0] == 0` wtedy nie będzie litery przed nią, więc zwracam `(#, correction[nums[0]])`.\n",
    "\n",
    "2. Insertion\n",
    "\n",
    "Badam jednocześnie `correction` i `error`. Litery, które mnie interesują to `correction[nums[0]]` oaz `error[nums[1]]`.\n",
    "\n",
    "3. Substitution (replace)\n",
    "\n",
    "Badam jednocześnie `correction` i `error`. Litery, które mnie interesują to `error[nums[0]]` oraz `correction[nums[0]]`.\n",
    "\n",
    "4. Reversal\n",
    "\n",
    "Badam tylko `correction`. Litery, które mnie interesują to `correction[nums[1]]` oraz `correction[nums[0]]`."
   ]
  },
  {
   "cell_type": "code",
   "execution_count": 2,
   "metadata": {},
   "outputs": [],
   "source": [
    "# pamiętaj o użyciu axis = 1\n",
    "def create_column_with_letters(nums, basic_type, error, correction):\n",
    "    if basic_type == 'insert':\n",
    "        return (correction[nums[0]], error[nums[1]])\n",
    "    elif basic_type == 'delete':\n",
    "        try:\n",
    "            return (correction[nums[0]-1], correction[nums[0]])\n",
    "        except:\n",
    "            return ('#', correction[nums[0]])\n",
    "    elif basic_type == 'replace':\n",
    "        try:\n",
    "            return (correction[nums[0]], error[nums[0]])\n",
    "        except:\n",
    "            print(error, correction)\n",
    "            return None\n",
    "    else:\n",
    "        # transposition\n",
    "        return (correction[nums[1]], correction[nums[0]])"
   ]
  },
  {
   "cell_type": "markdown",
   "metadata": {},
   "source": [
    "Ładuję dane podzielone (na treningowe i testowe):"
   ]
  },
  {
   "cell_type": "code",
   "execution_count": 3,
   "metadata": {},
   "outputs": [],
   "source": [
    "with open('../pickles/test_train.dat', 'rb') as file:\n",
    "    train_test_list = pickle.load(file)"
   ]
  },
  {
   "cell_type": "code",
   "execution_count": 4,
   "metadata": {},
   "outputs": [],
   "source": [
    "X_train = train_test_list[0]\n",
    "y_train = train_test_list[2]"
   ]
  },
  {
   "cell_type": "code",
   "execution_count": 5,
   "metadata": {},
   "outputs": [
    {
     "data": {
      "text/html": [
       "<div>\n",
       "<style scoped>\n",
       "    .dataframe tbody tr th:only-of-type {\n",
       "        vertical-align: middle;\n",
       "    }\n",
       "\n",
       "    .dataframe tbody tr th {\n",
       "        vertical-align: top;\n",
       "    }\n",
       "\n",
       "    .dataframe thead th {\n",
       "        text-align: right;\n",
       "    }\n",
       "</style>\n",
       "<table border=\"1\" class=\"dataframe\">\n",
       "  <thead>\n",
       "    <tr style=\"text-align: right;\">\n",
       "      <th></th>\n",
       "      <th>text_with_error</th>\n",
       "      <th>corrected_text</th>\n",
       "      <th>is_valid_sentence</th>\n",
       "      <th>error</th>\n",
       "      <th>type</th>\n",
       "      <th>dist</th>\n",
       "      <th>category</th>\n",
       "      <th>file</th>\n",
       "      <th>basic_type_operation</th>\n",
       "      <th>nums</th>\n",
       "      <th>correction</th>\n",
       "    </tr>\n",
       "  </thead>\n",
       "  <tbody>\n",
       "    <tr>\n",
       "      <th>119</th>\n",
       "      <td>Pod koniec tego samego roku przszło na świat d...</td>\n",
       "      <td>Pod koniec tego samego roku przyszło na świat ...</td>\n",
       "      <td>True</td>\n",
       "      <td>przszło</td>\n",
       "      <td>nonword</td>\n",
       "      <td>1</td>\n",
       "      <td>pisownia</td>\n",
       "      <td>plewic.01.0427.yaml</td>\n",
       "      <td>delete</td>\n",
       "      <td>(3, 3)</td>\n",
       "      <td>przyszło</td>\n",
       "    </tr>\n",
       "    <tr>\n",
       "      <th>296</th>\n",
       "      <td>Zna powiązania Eliasza z mesjanistycznymi ocze...</td>\n",
       "      <td>Zna powiązania Eliasza z mesjanistycznymi ocze...</td>\n",
       "      <td>True</td>\n",
       "      <td>wię,</td>\n",
       "      <td>nonword</td>\n",
       "      <td>1</td>\n",
       "      <td>znaki diakrytyczne</td>\n",
       "      <td>plewic.01.0040.yaml</td>\n",
       "      <td>replace</td>\n",
       "      <td>(2, 2)</td>\n",
       "      <td>wie,</td>\n",
       "    </tr>\n",
       "    <tr>\n",
       "      <th>441</th>\n",
       "      <td>Na początku cala okolica byla osobną wioską, s...</td>\n",
       "      <td>Na początku cała okolica była osobną wioską, s...</td>\n",
       "      <td>True</td>\n",
       "      <td>cala</td>\n",
       "      <td>realword</td>\n",
       "      <td>1</td>\n",
       "      <td>znaki diakrytyczne/kontekst</td>\n",
       "      <td>plewic.01.0026.yaml</td>\n",
       "      <td>replace</td>\n",
       "      <td>(2, 2)</td>\n",
       "      <td>cała</td>\n",
       "    </tr>\n",
       "    <tr>\n",
       "      <th>440</th>\n",
       "      <td>Była więc to działalnośc analogiczna do tej, k...</td>\n",
       "      <td>Była więc to działalność analogiczna do tej, k...</td>\n",
       "      <td>True</td>\n",
       "      <td>działalnośc</td>\n",
       "      <td>nonword</td>\n",
       "      <td>1</td>\n",
       "      <td>znaki diakrytyczne</td>\n",
       "      <td>plewic.04.0067.yaml</td>\n",
       "      <td>replace</td>\n",
       "      <td>(10, 10)</td>\n",
       "      <td>działalność</td>\n",
       "    </tr>\n",
       "    <tr>\n",
       "      <th>26</th>\n",
       "      <td>Kościół posiada nawę z dwoma podcieniami i cen...</td>\n",
       "      <td>Kościół posiada nawę z dwoma podcieniami i cen...</td>\n",
       "      <td>True</td>\n",
       "      <td>podwyzszonym</td>\n",
       "      <td>nonword</td>\n",
       "      <td>1</td>\n",
       "      <td>znaki diakrytyczne</td>\n",
       "      <td>plewic.01.0036.yaml</td>\n",
       "      <td>replace</td>\n",
       "      <td>(5, 5)</td>\n",
       "      <td>podwyższonym</td>\n",
       "    </tr>\n",
       "  </tbody>\n",
       "</table>\n",
       "</div>"
      ],
      "text/plain": [
       "                                       text_with_error  \\\n",
       "119  Pod koniec tego samego roku przszło na świat d...   \n",
       "296  Zna powiązania Eliasza z mesjanistycznymi ocze...   \n",
       "441  Na początku cala okolica byla osobną wioską, s...   \n",
       "440  Była więc to działalnośc analogiczna do tej, k...   \n",
       "26   Kościół posiada nawę z dwoma podcieniami i cen...   \n",
       "\n",
       "                                        corrected_text is_valid_sentence  \\\n",
       "119  Pod koniec tego samego roku przyszło na świat ...              True   \n",
       "296  Zna powiązania Eliasza z mesjanistycznymi ocze...              True   \n",
       "441  Na początku cała okolica była osobną wioską, s...              True   \n",
       "440  Była więc to działalność analogiczna do tej, k...              True   \n",
       "26   Kościół posiada nawę z dwoma podcieniami i cen...              True   \n",
       "\n",
       "            error      type dist                     category  \\\n",
       "119       przszło   nonword    1                     pisownia   \n",
       "296          wię,   nonword    1           znaki diakrytyczne   \n",
       "441          cala  realword    1  znaki diakrytyczne/kontekst   \n",
       "440   działalnośc   nonword    1           znaki diakrytyczne   \n",
       "26   podwyzszonym   nonword    1           znaki diakrytyczne   \n",
       "\n",
       "                    file basic_type_operation      nums    correction  \n",
       "119  plewic.01.0427.yaml               delete    (3, 3)      przyszło  \n",
       "296  plewic.01.0040.yaml              replace    (2, 2)          wie,  \n",
       "441  plewic.01.0026.yaml              replace    (2, 2)          cała  \n",
       "440  plewic.04.0067.yaml              replace  (10, 10)   działalność  \n",
       "26   plewic.01.0036.yaml              replace    (5, 5)  podwyższonym  "
      ]
     },
     "execution_count": 5,
     "metadata": {},
     "output_type": "execute_result"
    }
   ],
   "source": [
    "X_train.head()"
   ]
  },
  {
   "cell_type": "code",
   "execution_count": 6,
   "metadata": {},
   "outputs": [
    {
     "name": "stdout",
     "output_type": "stream",
     "text": [
      "sa ! 'są:'\n",
      "sa ! 'są:'\n"
     ]
    },
    {
     "data": {
      "text/html": [
       "<div>\n",
       "<style scoped>\n",
       "    .dataframe tbody tr th:only-of-type {\n",
       "        vertical-align: middle;\n",
       "    }\n",
       "\n",
       "    .dataframe tbody tr th {\n",
       "        vertical-align: top;\n",
       "    }\n",
       "\n",
       "    .dataframe thead th {\n",
       "        text-align: right;\n",
       "    }\n",
       "</style>\n",
       "<table border=\"1\" class=\"dataframe\">\n",
       "  <thead>\n",
       "    <tr style=\"text-align: right;\">\n",
       "      <th></th>\n",
       "      <th>text_with_error</th>\n",
       "      <th>corrected_text</th>\n",
       "      <th>is_valid_sentence</th>\n",
       "      <th>error</th>\n",
       "      <th>type</th>\n",
       "      <th>dist</th>\n",
       "      <th>category</th>\n",
       "      <th>file</th>\n",
       "      <th>basic_type_operation</th>\n",
       "      <th>nums</th>\n",
       "      <th>correction</th>\n",
       "      <th>letter_pairs</th>\n",
       "    </tr>\n",
       "  </thead>\n",
       "  <tbody>\n",
       "    <tr>\n",
       "      <th>119</th>\n",
       "      <td>Pod koniec tego samego roku przszło na świat d...</td>\n",
       "      <td>Pod koniec tego samego roku przyszło na świat ...</td>\n",
       "      <td>True</td>\n",
       "      <td>przszło</td>\n",
       "      <td>nonword</td>\n",
       "      <td>1</td>\n",
       "      <td>pisownia</td>\n",
       "      <td>plewic.01.0427.yaml</td>\n",
       "      <td>delete</td>\n",
       "      <td>(3, 3)</td>\n",
       "      <td>przyszło</td>\n",
       "      <td>(z, y)</td>\n",
       "    </tr>\n",
       "    <tr>\n",
       "      <th>296</th>\n",
       "      <td>Zna powiązania Eliasza z mesjanistycznymi ocze...</td>\n",
       "      <td>Zna powiązania Eliasza z mesjanistycznymi ocze...</td>\n",
       "      <td>True</td>\n",
       "      <td>wię,</td>\n",
       "      <td>nonword</td>\n",
       "      <td>1</td>\n",
       "      <td>znaki diakrytyczne</td>\n",
       "      <td>plewic.01.0040.yaml</td>\n",
       "      <td>replace</td>\n",
       "      <td>(2, 2)</td>\n",
       "      <td>wie,</td>\n",
       "      <td>(e, ę)</td>\n",
       "    </tr>\n",
       "    <tr>\n",
       "      <th>441</th>\n",
       "      <td>Na początku cala okolica byla osobną wioską, s...</td>\n",
       "      <td>Na początku cała okolica była osobną wioską, s...</td>\n",
       "      <td>True</td>\n",
       "      <td>cala</td>\n",
       "      <td>realword</td>\n",
       "      <td>1</td>\n",
       "      <td>znaki diakrytyczne/kontekst</td>\n",
       "      <td>plewic.01.0026.yaml</td>\n",
       "      <td>replace</td>\n",
       "      <td>(2, 2)</td>\n",
       "      <td>cała</td>\n",
       "      <td>(ł, l)</td>\n",
       "    </tr>\n",
       "    <tr>\n",
       "      <th>440</th>\n",
       "      <td>Była więc to działalnośc analogiczna do tej, k...</td>\n",
       "      <td>Była więc to działalność analogiczna do tej, k...</td>\n",
       "      <td>True</td>\n",
       "      <td>działalnośc</td>\n",
       "      <td>nonword</td>\n",
       "      <td>1</td>\n",
       "      <td>znaki diakrytyczne</td>\n",
       "      <td>plewic.04.0067.yaml</td>\n",
       "      <td>replace</td>\n",
       "      <td>(10, 10)</td>\n",
       "      <td>działalność</td>\n",
       "      <td>(ć, c)</td>\n",
       "    </tr>\n",
       "    <tr>\n",
       "      <th>26</th>\n",
       "      <td>Kościół posiada nawę z dwoma podcieniami i cen...</td>\n",
       "      <td>Kościół posiada nawę z dwoma podcieniami i cen...</td>\n",
       "      <td>True</td>\n",
       "      <td>podwyzszonym</td>\n",
       "      <td>nonword</td>\n",
       "      <td>1</td>\n",
       "      <td>znaki diakrytyczne</td>\n",
       "      <td>plewic.01.0036.yaml</td>\n",
       "      <td>replace</td>\n",
       "      <td>(5, 5)</td>\n",
       "      <td>podwyższonym</td>\n",
       "      <td>(ż, z)</td>\n",
       "    </tr>\n",
       "  </tbody>\n",
       "</table>\n",
       "</div>"
      ],
      "text/plain": [
       "                                       text_with_error  \\\n",
       "119  Pod koniec tego samego roku przszło na świat d...   \n",
       "296  Zna powiązania Eliasza z mesjanistycznymi ocze...   \n",
       "441  Na początku cala okolica byla osobną wioską, s...   \n",
       "440  Była więc to działalnośc analogiczna do tej, k...   \n",
       "26   Kościół posiada nawę z dwoma podcieniami i cen...   \n",
       "\n",
       "                                        corrected_text is_valid_sentence  \\\n",
       "119  Pod koniec tego samego roku przyszło na świat ...              True   \n",
       "296  Zna powiązania Eliasza z mesjanistycznymi ocze...              True   \n",
       "441  Na początku cała okolica była osobną wioską, s...              True   \n",
       "440  Była więc to działalność analogiczna do tej, k...              True   \n",
       "26   Kościół posiada nawę z dwoma podcieniami i cen...              True   \n",
       "\n",
       "            error      type dist                     category  \\\n",
       "119       przszło   nonword    1                     pisownia   \n",
       "296          wię,   nonword    1           znaki diakrytyczne   \n",
       "441          cala  realword    1  znaki diakrytyczne/kontekst   \n",
       "440   działalnośc   nonword    1           znaki diakrytyczne   \n",
       "26   podwyzszonym   nonword    1           znaki diakrytyczne   \n",
       "\n",
       "                    file basic_type_operation      nums    correction  \\\n",
       "119  plewic.01.0427.yaml               delete    (3, 3)      przyszło   \n",
       "296  plewic.01.0040.yaml              replace    (2, 2)          wie,   \n",
       "441  plewic.01.0026.yaml              replace    (2, 2)          cała   \n",
       "440  plewic.04.0067.yaml              replace  (10, 10)   działalność   \n",
       "26   plewic.01.0036.yaml              replace    (5, 5)  podwyższonym   \n",
       "\n",
       "    letter_pairs  \n",
       "119       (z, y)  \n",
       "296       (e, ę)  \n",
       "441       (ł, l)  \n",
       "440       (ć, c)  \n",
       "26        (ż, z)  "
      ]
     },
     "execution_count": 6,
     "metadata": {},
     "output_type": "execute_result"
    }
   ],
   "source": [
    "X_train['letter_pairs'] = X_train[['nums', 'basic_type_operation', 'error', 'correction']].apply(lambda x: create_column_with_letters(*x), axis=1)\n",
    "X_train.head()"
   ]
  },
  {
   "cell_type": "code",
   "execution_count": 23,
   "metadata": {},
   "outputs": [
    {
     "data": {
      "text/html": [
       "<div>\n",
       "<style scoped>\n",
       "    .dataframe tbody tr th:only-of-type {\n",
       "        vertical-align: middle;\n",
       "    }\n",
       "\n",
       "    .dataframe tbody tr th {\n",
       "        vertical-align: top;\n",
       "    }\n",
       "\n",
       "    .dataframe thead th {\n",
       "        text-align: right;\n",
       "    }\n",
       "</style>\n",
       "<table border=\"1\" class=\"dataframe\">\n",
       "  <thead>\n",
       "    <tr style=\"text-align: right;\">\n",
       "      <th></th>\n",
       "      <th>text_with_error</th>\n",
       "      <th>corrected_text</th>\n",
       "      <th>is_valid_sentence</th>\n",
       "      <th>error</th>\n",
       "      <th>type</th>\n",
       "      <th>dist</th>\n",
       "      <th>category</th>\n",
       "      <th>file</th>\n",
       "      <th>basic_type_operation</th>\n",
       "      <th>nums</th>\n",
       "      <th>correction</th>\n",
       "      <th>letter_pairs</th>\n",
       "    </tr>\n",
       "  </thead>\n",
       "  <tbody>\n",
       "    <tr>\n",
       "      <th>367</th>\n",
       "      <td>! 'Specjalnymi przypadkami kwintesecji sa ener...</td>\n",
       "      <td>! 'Specjalnymi przypadkami kwintesecji są: ene...</td>\n",
       "      <td>False</td>\n",
       "      <td>sa</td>\n",
       "      <td>nonword</td>\n",
       "      <td>1</td>\n",
       "      <td>znaki diakrytyczne</td>\n",
       "      <td>plewic.01.0140.yaml</td>\n",
       "      <td>replace</td>\n",
       "      <td>(2, -1)</td>\n",
       "      <td>! 'są:'</td>\n",
       "      <td>None</td>\n",
       "    </tr>\n",
       "    <tr>\n",
       "      <th>457</th>\n",
       "      <td>Bohaterami filmu sa bezdomny zakochany w młodo...</td>\n",
       "      <td>! 'Bohaterami filmu są: bezdomny zakochany w m...</td>\n",
       "      <td>True</td>\n",
       "      <td>sa</td>\n",
       "      <td>nonword</td>\n",
       "      <td>1</td>\n",
       "      <td>znaki diakrytyczne</td>\n",
       "      <td>plewic.08.0067.yaml</td>\n",
       "      <td>replace</td>\n",
       "      <td>(2, -1)</td>\n",
       "      <td>! 'są:'</td>\n",
       "      <td>None</td>\n",
       "    </tr>\n",
       "  </tbody>\n",
       "</table>\n",
       "</div>"
      ],
      "text/plain": [
       "                                       text_with_error  \\\n",
       "367  ! 'Specjalnymi przypadkami kwintesecji sa ener...   \n",
       "457  Bohaterami filmu sa bezdomny zakochany w młodo...   \n",
       "\n",
       "                                        corrected_text is_valid_sentence  \\\n",
       "367  ! 'Specjalnymi przypadkami kwintesecji są: ene...             False   \n",
       "457  ! 'Bohaterami filmu są: bezdomny zakochany w m...              True   \n",
       "\n",
       "    error     type dist            category                 file  \\\n",
       "367    sa  nonword    1  znaki diakrytyczne  plewic.01.0140.yaml   \n",
       "457    sa  nonword    1  znaki diakrytyczne  plewic.08.0067.yaml   \n",
       "\n",
       "    basic_type_operation     nums correction letter_pairs  \n",
       "367              replace  (2, -1)    ! 'są:'         None  \n",
       "457              replace  (2, -1)    ! 'są:'         None  "
      ]
     },
     "execution_count": 23,
     "metadata": {},
     "output_type": "execute_result"
    }
   ],
   "source": [
    "X_train.loc[X_train['letter_pairs'].isna()]"
   ]
  },
  {
   "cell_type": "markdown",
   "metadata": {},
   "source": [
    "Usuwam te dwa wiersze:"
   ]
  },
  {
   "cell_type": "code",
   "execution_count": 7,
   "metadata": {},
   "outputs": [],
   "source": [
    "X_train.drop(367, inplace=True)\n",
    "X_train.drop(457, inplace=True)"
   ]
  },
  {
   "cell_type": "code",
   "execution_count": 8,
   "metadata": {},
   "outputs": [
    {
     "data": {
      "text/plain": [
       "array(['delete', 'replace', 'insert', 'transpose'], dtype=object)"
      ]
     },
     "execution_count": 8,
     "metadata": {},
     "output_type": "execute_result"
    }
   ],
   "source": [
    "X_train['basic_type_operation'].unique()"
   ]
  },
  {
   "cell_type": "markdown",
   "metadata": {},
   "source": [
    "## Tabela pusta"
   ]
  },
  {
   "cell_type": "markdown",
   "metadata": {},
   "source": [
    "Tworzę pustą tabelę, która będzie wypełniona zerami. Tabela dla *del* oraz *add* musi mieć dodatkowo wiersz na znak pusty (czyli 33 wiersze na 32 kolumny). Na razie tworzę słownik par liter, gdzie pierwsza litera oznacza wiersz, natomiast druga litera to oznaczenie kolumny."
   ]
  },
  {
   "cell_type": "code",
   "execution_count": 9,
   "metadata": {},
   "outputs": [],
   "source": [
    "del_dict = defaultdict(int)\n",
    "add_dict = defaultdict(int)\n",
    "sub_dict = defaultdict(int)\n",
    "rev_dict = defaultdict(int)\n",
    "\n",
    "def create_dict_as_matrix(basic_type_operation, letter_pairs):\n",
    "    global del_dict\n",
    "    global add_dict\n",
    "    global sub_dict\n",
    "    global rev_dict\n",
    "    \n",
    "    # first letter - row, second letter - column\n",
    "    row_column = \"\".join(letter_pairs)\n",
    "    \n",
    "    # to lower\n",
    "    row_column = row_column.lower()\n",
    "    \n",
    "    \n",
    "    # filter out punctuations\n",
    "    punctuation_set = set(string.punctuation)\n",
    "    punctuation_in_row_column = set(row_column).intersection(punctuation_set)\n",
    "    if punctuation_in_row_column:\n",
    "        return None\n",
    "    \n",
    "    # filter out non-Polish letters\n",
    "    polish_letters = 'aąbcćdeęfghijklłmnńoóprsśtuwyzźż'\n",
    "    non_polish_letters = set(row_column) - set(polish_letters)\n",
    "    if non_polish_letters:\n",
    "        return None\n",
    "    \n",
    "    if basic_type_operation == 'delete':\n",
    "        del_dict[row_column] += 1\n",
    "    elif basic_type_operation == 'insert':\n",
    "        add_dict[row_column] += 1\n",
    "    elif basic_type_operation == 'replace':\n",
    "        sub_dict[row_column] += 1\n",
    "    else:\n",
    "        # transposition\n",
    "        rev_dict[row_column] += 1\n",
    "    return None"
   ]
  },
  {
   "cell_type": "code",
   "execution_count": 10,
   "metadata": {},
   "outputs": [
    {
     "data": {
      "text/plain": [
       "119    None\n",
       "296    None\n",
       "441    None\n",
       "440    None\n",
       "26     None\n",
       "       ... \n",
       "447    None\n",
       "245    None\n",
       "165    None\n",
       "473    None\n",
       "468    None\n",
       "Length: 402823, dtype: object"
      ]
     },
     "execution_count": 10,
     "metadata": {},
     "output_type": "execute_result"
    }
   ],
   "source": [
    "X_train[['basic_type_operation', 'letter_pairs']].apply(lambda x: create_dict_as_matrix(*x), axis=1)"
   ]
  },
  {
   "cell_type": "code",
   "execution_count": 11,
   "metadata": {},
   "outputs": [],
   "source": [
    "ops_count_dict = {'del': del_dict, 'add': add_dict, 'rev': rev_dict, 'sub': sub_dict}"
   ]
  },
  {
   "cell_type": "code",
   "execution_count": 12,
   "metadata": {},
   "outputs": [],
   "source": [
    "with open('../pickles/ops_count_dict.p', 'wb') as file:\n",
    "    pickle.dump(ops_count_dict, file, protocol=pickle.HIGHEST_PROTOCOL)"
   ]
  },
  {
   "cell_type": "markdown",
   "metadata": {},
   "source": [
    "Tworzę macierze, które będę mógł pokazać na slajdach:"
   ]
  },
  {
   "cell_type": "code",
   "execution_count": 13,
   "metadata": {},
   "outputs": [
    {
     "data": {
      "text/plain": [
       "35"
      ]
     },
     "execution_count": 13,
     "metadata": {},
     "output_type": "execute_result"
    }
   ],
   "source": [
    "polish_letters_extended = 'aąbcćdeęfghijklłmnńoóprsśtuwyzźż' + 'qxv'\n",
    "polish_letters_extended_pound = polish_letters_extended + '#'\n",
    "# polish_letters_extended = polish_letters + '#' + 'qxv'\n",
    "len(polish_letters_extended)"
   ]
  },
  {
   "cell_type": "markdown",
   "metadata": {},
   "source": [
    "Dostęp do ramki danych jest przez `df['col']['row']`, a pary liter (klucze) w słowniku mam zapisane jako `rowcolumn`"
   ]
  },
  {
   "cell_type": "markdown",
   "metadata": {},
   "source": [
    "Wersja `extended` jest dla macierzy *del* oraz *add*."
   ]
  },
  {
   "cell_type": "code",
   "execution_count": 14,
   "metadata": {},
   "outputs": [],
   "source": [
    "zero_data_extended = np.zeros(shape=(len(polish_letters_extended_pound), len(polish_letters_extended)))\n",
    "zero_data = np.zeros(shape=(len(polish_letters_extended), len(polish_letters_extended)))"
   ]
  },
  {
   "cell_type": "code",
   "execution_count": 15,
   "metadata": {},
   "outputs": [],
   "source": [
    "del_matrix = pd.DataFrame(copy.deepcopy(zero_data_extended), columns=list(polish_letters_extended), index=list(polish_letters_extended_pound))\n",
    "for letters, count in del_dict.items():\n",
    "    del_matrix[letters[1]][letters[0]] += count"
   ]
  },
  {
   "cell_type": "code",
   "execution_count": 16,
   "metadata": {},
   "outputs": [],
   "source": [
    "add_matrix = pd.DataFrame(copy.deepcopy(zero_data_extended), columns=list(polish_letters_extended), index=list(polish_letters_extended_pound))\n",
    "for letters, count in add_dict.items():\n",
    "    add_matrix[letters[1]][letters[0]] += count"
   ]
  },
  {
   "cell_type": "code",
   "execution_count": 17,
   "metadata": {},
   "outputs": [],
   "source": [
    "sub_matrix = pd.DataFrame(copy.deepcopy(zero_data), columns=list(polish_letters_extended), index=list(polish_letters_extended))\n",
    "for letters, count in sub_dict.items():\n",
    "    sub_matrix[letters[1]][letters[0]] += count"
   ]
  },
  {
   "cell_type": "code",
   "execution_count": 18,
   "metadata": {},
   "outputs": [],
   "source": [
    "rev_matrix = pd.DataFrame(copy.deepcopy(zero_data), columns=list(polish_letters_extended), index=list(polish_letters_extended))\n",
    "for letters, count in rev_dict.items():\n",
    "    rev_matrix[letters[1]][letters[0]] += count"
   ]
  },
  {
   "cell_type": "markdown",
   "metadata": {},
   "source": [
    "Zmieniam typ liczb z float na int (żeby były czytelniejsze):"
   ]
  },
  {
   "cell_type": "code",
   "execution_count": 19,
   "metadata": {},
   "outputs": [],
   "source": [
    "del_matrix = del_matrix.astype(int)\n",
    "add_matrix = add_matrix.astype(int)\n",
    "sub_matrix = sub_matrix.astype(int)\n",
    "rev_matrix = rev_matrix.astype(int)"
   ]
  },
  {
   "cell_type": "code",
   "execution_count": 21,
   "metadata": {},
   "outputs": [],
   "source": [
    "add_matrix.to_csv('../csv_files/add_matrix.csv', index=True)\n",
    "del_matrix.to_csv('../csv_files/del_matrix.csv', index=True)\n",
    "sub_matrix.to_csv('../csv_files/sub_matrix.csv', index=True)\n",
    "rev_matrix.to_csv('../csv_files/rev_matrix.csv', index=True)"
   ]
  },
  {
   "cell_type": "markdown",
   "metadata": {},
   "source": [
    "Zapisuję ramki danych do pickle:"
   ]
  },
  {
   "cell_type": "code",
   "execution_count": 22,
   "metadata": {},
   "outputs": [],
   "source": [
    "add_matrix.to_pickle('../pickles/add_matrix.p')"
   ]
  },
  {
   "cell_type": "code",
   "execution_count": 23,
   "metadata": {},
   "outputs": [],
   "source": [
    "del_matrix.to_pickle('../pickles/del_matrix.p')"
   ]
  },
  {
   "cell_type": "code",
   "execution_count": 24,
   "metadata": {},
   "outputs": [],
   "source": [
    "sub_matrix.to_pickle('../pickles/sub_matrix.p')"
   ]
  },
  {
   "cell_type": "code",
   "execution_count": 25,
   "metadata": {},
   "outputs": [],
   "source": [
    "rev_matrix.to_pickle('../pickles/rev_matrix.p')"
   ]
  }
 ],
 "metadata": {
  "kernelspec": {
   "display_name": "Python 3",
   "language": "python",
   "name": "python3"
  },
  "language_info": {
   "codemirror_mode": {
    "name": "ipython",
    "version": 3
   },
   "file_extension": ".py",
   "mimetype": "text/x-python",
   "name": "python",
   "nbconvert_exporter": "python",
   "pygments_lexer": "ipython3",
   "version": "3.6.8"
  }
 },
 "nbformat": 4,
 "nbformat_minor": 2
}
