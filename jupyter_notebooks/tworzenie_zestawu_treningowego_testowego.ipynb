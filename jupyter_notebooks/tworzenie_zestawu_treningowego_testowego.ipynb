{
 "cells": [
  {
   "cell_type": "markdown",
   "metadata": {},
   "source": [
    "Funkcje potrzebne do liczenia dystansu edycji oraz operacji, które zostały wykonane:"
   ]
  },
  {
   "cell_type": "code",
   "execution_count": 1,
   "metadata": {},
   "outputs": [],
   "source": [
    "import numpy as np\n",
    "import sys\n",
    "\n",
    "def damerau_levenshtein_distance(string1, string2):\n",
    "    \"\"\"\n",
    "    Given two strings string1 and string2 computes the Damerau-Levenshtein\n",
    "    between them.\n",
    "    \"\"\"\n",
    "    n1 = len(string1)\n",
    "    n2 = len(string2)\n",
    "    return get_levenshtein_distance_matrix(string1, string2)[n1, n2]\n",
    "\n",
    "def get_basic_operations(string1, string2):\n",
    "    dist_matrix = get_levenshtein_distance_matrix(string1, string2)\n",
    "    i, j = dist_matrix.shape\n",
    "    i -= 1\n",
    "    j -= 1\n",
    "    # operations conducted on string1 in order to transform it into string2\n",
    "    operations = []\n",
    "    while i != -1 and j != -1:\n",
    "        if i > 1 and j > 1 and string1[i-1] == string2[j-2] \\\n",
    "                 and string1[i-2] == string2[j-1]:\n",
    "            if dist_matrix[i-2, j-2] < dist_matrix[i, j]:\n",
    "                operations.insert(0, ('transpose', i - 1, i - 2))\n",
    "                i -= 2\n",
    "                j -= 2\n",
    "                continue\n",
    "        index = np.argmin([dist_matrix[i-1, j-1], \\\n",
    "                           dist_matrix[i, j-1], \\\n",
    "                           dist_matrix[i-1, j]])\n",
    "        if index == 0:\n",
    "            if dist_matrix[i, j] > dist_matrix[i-1, j-1]:\n",
    "                operations.insert(0, ('replace', i - 1, j - 1))\n",
    "            i -= 1\n",
    "            j -= 1\n",
    "        elif index == 1:\n",
    "            operations.insert(0, ('insert', i - 1, j - 1))\n",
    "            j -= 1\n",
    "        elif index == 2:\n",
    "            operations.insert(0, ('delete', i - 1, i - 1))\n",
    "            i -= 1\n",
    "    return operations\n",
    "\n",
    "def execute_operations(operations, string1, string2):\n",
    "    # initialise the path from string1 to string2 with the first phase, i.e.\n",
    "    # the string1 itself\n",
    "    strings = [string1]\n",
    "    # get single letters from the input string\n",
    "    string = list(string1)\n",
    "\n",
    "    shift = 0\n",
    "    for op in operations:\n",
    "        i, j = op[1], op[2]\n",
    "        if op[0] == 'delete':\n",
    "            del string[i + shift]\n",
    "            shift -= 1\n",
    "        elif op[0] == 'insert':\n",
    "            string.insert(i + shift + 1, string2[j])\n",
    "            shift += 1\n",
    "        elif op[0] == 'replace':\n",
    "            string[i + shift] = string2[j]\n",
    "        elif op[0] == 'transpose':\n",
    "            string[i + shift], string[j + shift] = string[j + shift], string[i + shift]\n",
    "        strings.append(''.join(string))\n",
    "    return strings\n",
    "\n",
    "def get_levenshtein_distance_matrix(string1, string2):\n",
    "    \"\"\"\n",
    "    Given two strings computes creates a matrix that contains the Damerau-\n",
    "    Levenshtein distance in the cell [n1, n2]\n",
    "    \"\"\"\n",
    "    n1 = len(string1)\n",
    "    n2 = len(string2)\n",
    "    dl_matrix = np.zeros((n1 + 1, n2 + 1), dtype=int)\n",
    "    # the first column: turn input (sub)string into an empty string\n",
    "    for i in range(n1 + 1):\n",
    "        dl_matrix[i, 0] = i\n",
    "    # the first row: turn an empty string into the target (sub)string\n",
    "    for j in range(n2 + 1):\n",
    "        dl_matrix[0, j] = j\n",
    "    # the matrix is analysed row-wise\n",
    "    for i in range(n1):\n",
    "        for j in range(n2):\n",
    "            cost = 0 if string1[i] == string2[j] else 1\n",
    "\n",
    "            # consider operations allowed in Levenshtein's distance\n",
    "            dl_matrix[i+1, j+1] = min(dl_matrix[i, j+1] + 1, # insertion\n",
    "                                      dl_matrix[i+1, j] + 1, # deletion\n",
    "                                      dl_matrix[i, j] + cost) # substitution\n",
    "            if i > 0 and j > 0 and string1[i] == string2[j-1] and \\\n",
    "            string1[i-1] == string2[j]:\n",
    "                # handle transposition\n",
    "                dl_matrix[i+1, j+1] = min(dl_matrix[i+1, j+1], \\\n",
    "                                        dl_matrix[i-1, j-1] + cost)\n",
    "    return dl_matrix"
   ]
  },
  {
   "cell_type": "markdown",
   "metadata": {},
   "source": [
    "<hr>"
   ]
  },
  {
   "cell_type": "code",
   "execution_count": 4,
   "metadata": {},
   "outputs": [],
   "source": [
    "from sklearn.model_selection import train_test_split\n",
    "import pickle"
   ]
  },
  {
   "cell_type": "markdown",
   "metadata": {},
   "source": [
    "Importuję wybrane błędy:"
   ]
  },
  {
   "cell_type": "code",
   "execution_count": 5,
   "metadata": {},
   "outputs": [],
   "source": [
    "with open(\"../pickles/chosen_errors.p\", \"rb\") as pickle_file:\n",
    "    chosen_errors = pickle.load(pickle_file)"
   ]
  },
  {
   "cell_type": "code",
   "execution_count": 6,
   "metadata": {},
   "outputs": [
    {
     "data": {
      "text/plain": [
       "(609572, 9)"
      ]
     },
     "execution_count": 6,
     "metadata": {},
     "output_type": "execute_result"
    }
   ],
   "source": [
    "chosen_errors.shape"
   ]
  },
  {
   "cell_type": "code",
   "execution_count": 17,
   "metadata": {},
   "outputs": [
    {
     "data": {
      "text/html": [
       "<div>\n",
       "<style scoped>\n",
       "    .dataframe tbody tr th:only-of-type {\n",
       "        vertical-align: middle;\n",
       "    }\n",
       "\n",
       "    .dataframe tbody tr th {\n",
       "        vertical-align: top;\n",
       "    }\n",
       "\n",
       "    .dataframe thead th {\n",
       "        text-align: right;\n",
       "    }\n",
       "</style>\n",
       "<table border=\"1\" class=\"dataframe\">\n",
       "  <thead>\n",
       "    <tr style=\"text-align: right;\">\n",
       "      <th></th>\n",
       "      <th>text_with_error</th>\n",
       "      <th>corrected_text</th>\n",
       "      <th>is_valid_sentence</th>\n",
       "      <th>error</th>\n",
       "      <th>correction</th>\n",
       "      <th>type</th>\n",
       "      <th>dist</th>\n",
       "      <th>category</th>\n",
       "      <th>file</th>\n",
       "    </tr>\n",
       "  </thead>\n",
       "  <tbody>\n",
       "    <tr>\n",
       "      <th>0</th>\n",
       "      <td>Полежан) - najwyższy szczyt w górach Pirin, gr...</td>\n",
       "      <td>Полежан) - najwyższy szczyt w górach Pirin, gr...</td>\n",
       "      <td>False</td>\n",
       "      <td>granotowy,</td>\n",
       "      <td>granitowy,</td>\n",
       "      <td>nonword</td>\n",
       "      <td>1</td>\n",
       "      <td>pisownia</td>\n",
       "      <td>plewic.09.0138.yaml</td>\n",
       "    </tr>\n",
       "    <tr>\n",
       "      <th>1</th>\n",
       "      <td>Rozpoczyna się przy ulicy Prymasa Stefana Wysz...</td>\n",
       "      <td>Rozpoczyna się przy ulicy Prymasa Stefana Wysz...</td>\n",
       "      <td>True</td>\n",
       "      <td>kościołą</td>\n",
       "      <td>kościoła</td>\n",
       "      <td>nonword</td>\n",
       "      <td>1</td>\n",
       "      <td>znaki diakrytyczne</td>\n",
       "      <td>plewic.09.0138.yaml</td>\n",
       "    </tr>\n",
       "    <tr>\n",
       "      <th>2</th>\n",
       "      <td>! '... który polski błogosławiny czczony jest ...</td>\n",
       "      <td>! '... który polski błogosławiony czczony jest...</td>\n",
       "      <td>False</td>\n",
       "      <td>błogosławiny</td>\n",
       "      <td>błogosławiony</td>\n",
       "      <td>nonword</td>\n",
       "      <td>1</td>\n",
       "      <td>pisownia</td>\n",
       "      <td>plewic.09.0138.yaml</td>\n",
       "    </tr>\n",
       "    <tr>\n",
       "      <th>3</th>\n",
       "      <td>! '... że NASA zleciło stworzenie gry komutero...</td>\n",
       "      <td>! '... że NASA zleciło stworzenie gry komputer...</td>\n",
       "      <td>False</td>\n",
       "      <td>komuterowej?</td>\n",
       "      <td>komputerowej?</td>\n",
       "      <td>nonword</td>\n",
       "      <td>1</td>\n",
       "      <td>pisownia</td>\n",
       "      <td>plewic.09.0138.yaml</td>\n",
       "    </tr>\n",
       "    <tr>\n",
       "      <th>4</th>\n",
       "      <td>V Mistrzostwa Ameryki Południowej w piłce siat...</td>\n",
       "      <td>V Mistrzostwa Ameryki Południowej w piłce siat...</td>\n",
       "      <td>True</td>\n",
       "      <td>Chle</td>\n",
       "      <td>Chile</td>\n",
       "      <td>nonword</td>\n",
       "      <td>1</td>\n",
       "      <td>pisownia</td>\n",
       "      <td>plewic.09.0138.yaml</td>\n",
       "    </tr>\n",
       "  </tbody>\n",
       "</table>\n",
       "</div>"
      ],
      "text/plain": [
       "                                     text_with_error  \\\n",
       "0  Полежан) - najwyższy szczyt w górach Pirin, gr...   \n",
       "1  Rozpoczyna się przy ulicy Prymasa Stefana Wysz...   \n",
       "2  ! '... który polski błogosławiny czczony jest ...   \n",
       "3  ! '... że NASA zleciło stworzenie gry komutero...   \n",
       "4  V Mistrzostwa Ameryki Południowej w piłce siat...   \n",
       "\n",
       "                                      corrected_text is_valid_sentence  \\\n",
       "0  Полежан) - najwyższy szczyt w górach Pirin, gr...             False   \n",
       "1  Rozpoczyna się przy ulicy Prymasa Stefana Wysz...              True   \n",
       "2  ! '... który polski błogosławiony czczony jest...             False   \n",
       "3  ! '... że NASA zleciło stworzenie gry komputer...             False   \n",
       "4  V Mistrzostwa Ameryki Południowej w piłce siat...              True   \n",
       "\n",
       "          error     correction     type dist            category  \\\n",
       "0    granotowy,     granitowy,  nonword    1            pisownia   \n",
       "1      kościołą       kościoła  nonword    1  znaki diakrytyczne   \n",
       "2  błogosławiny  błogosławiony  nonword    1            pisownia   \n",
       "3  komuterowej?  komputerowej?  nonword    1            pisownia   \n",
       "4          Chle          Chile  nonword    1            pisownia   \n",
       "\n",
       "                  file  \n",
       "0  plewic.09.0138.yaml  \n",
       "1  plewic.09.0138.yaml  \n",
       "2  plewic.09.0138.yaml  \n",
       "3  plewic.09.0138.yaml  \n",
       "4  plewic.09.0138.yaml  "
      ]
     },
     "execution_count": 17,
     "metadata": {},
     "output_type": "execute_result"
    }
   ],
   "source": [
    "chosen_errors.head()"
   ]
  },
  {
   "cell_type": "markdown",
   "metadata": {},
   "source": [
    "Tworzę ramkę danych, gdzie dystans edycji dla każdej korekty jest równy 1."
   ]
  },
  {
   "cell_type": "code",
   "execution_count": 18,
   "metadata": {},
   "outputs": [],
   "source": [
    "chosen_errors_unit_distance = chosen_errors.loc[chosen_errors['dist'] == '1']"
   ]
  },
  {
   "cell_type": "code",
   "execution_count": 19,
   "metadata": {},
   "outputs": [
    {
     "data": {
      "text/plain": [
       "array(['1'], dtype=object)"
      ]
     },
     "execution_count": 19,
     "metadata": {},
     "output_type": "execute_result"
    }
   ],
   "source": [
    "chosen_errors_unit_distance['dist'].unique()"
   ]
  },
  {
   "cell_type": "code",
   "execution_count": 20,
   "metadata": {},
   "outputs": [
    {
     "data": {
      "text/plain": [
       "(548953, 9)"
      ]
     },
     "execution_count": 20,
     "metadata": {},
     "output_type": "execute_result"
    }
   ],
   "source": [
    "chosen_errors_unit_distance.shape"
   ]
  },
  {
   "cell_type": "markdown",
   "metadata": {},
   "source": [
    "Kolumna `basic_type_operation` wskazuje na jedną z czterech operacji koniecznych do wykonania w celu naprawienia błędu, natomiast `nums` to kolumna informująca, które znaki trzeba wykorzystać w tej operacji. Dla każdej z operaji elememnty krotki w `nums` są inaczej interpretowane:\n",
    "\n",
    "**Insert**:\n",
    "\n",
    "Słowo `error` zostaje rozbite na części `error[:nums[0]+1] + correction[nums[1]] + error[nums[0]:]`. Litery, które mnie interesują to ta w `error`, po której następuje wstawienie (`error[nums[0]]`) oraz ta która jest wstawiana (`correction[nums[1]]`).\n",
    "\n",
    "**Delete**:\n",
    "\n",
    "Ze słowa `error` należy usunąć znak `error[nums[0]]`. Litery, które mnie interesują to ta, która stoi przed usuwaną (`error[nums[0]-1]`) oraz ta usuwana (`error[nums[0]]`).\n",
    "\n",
    "**Replace**: \n",
    "\n",
    "Znak `error[nums[0]]` zastępuję znakiem `correction[nums[1]]`. Są to dwie litery, które mnie interesują.\n",
    "\n",
    "**Transposition**:\n",
    "\n",
    "Zamieniam ze sobą miejscami znaki `error[nums[0]]` oraz `error[nums[1]]`. Są to dwie litery, które mnie interesują."
   ]
  },
  {
   "cell_type": "code",
   "execution_count": 24,
   "metadata": {},
   "outputs": [
    {
     "data": {
      "text/plain": [
       "('insert', 2, 3)"
      ]
     },
     "execution_count": 24,
     "metadata": {},
     "output_type": "execute_result"
    }
   ],
   "source": [
    "get_basic_operations('abc', 'abce')[0]"
   ]
  },
  {
   "cell_type": "code",
   "execution_count": 30,
   "metadata": {},
   "outputs": [],
   "source": [
    "chosen_errors_unit_distance_mini = chosen_errors_unit_distance.iloc[:100]"
   ]
  },
  {
   "cell_type": "raw",
   "metadata": {},
   "source": [
    "Próba na małej grupie:"
   ]
  },
  {
   "cell_type": "code",
   "execution_count": 31,
   "metadata": {},
   "outputs": [
    {
     "name": "stderr",
     "output_type": "stream",
     "text": [
      "/home/pawel/.local/lib/python3.6/site-packages/ipykernel_launcher.py:1: SettingWithCopyWarning: \n",
      "A value is trying to be set on a copy of a slice from a DataFrame.\n",
      "Try using .loc[row_indexer,col_indexer] = value instead\n",
      "\n",
      "See the caveats in the documentation: http://pandas.pydata.org/pandas-docs/stable/indexing.html#indexing-view-versus-copy\n",
      "  \"\"\"Entry point for launching an IPython kernel.\n",
      "/home/pawel/.local/lib/python3.6/site-packages/ipykernel_launcher.py:2: SettingWithCopyWarning: \n",
      "A value is trying to be set on a copy of a slice from a DataFrame.\n",
      "Try using .loc[row_indexer,col_indexer] = value instead\n",
      "\n",
      "See the caveats in the documentation: http://pandas.pydata.org/pandas-docs/stable/indexing.html#indexing-view-versus-copy\n",
      "  \n"
     ]
    }
   ],
   "source": [
    "chosen_errors_unit_distance_mini['basic_type_operation'] = chosen_errors_unit_distance_mini[['error', 'correction']].apply(lambda x: get_basic_operations(*x)[0][0], axis = 1)\n",
    "chosen_errors_unit_distance_mini['nums'] = chosen_errors_unit_distance_mini[['error', 'correction']].apply(lambda x: get_basic_operations(*x)[0][1:], axis = 1)"
   ]
  },
  {
   "cell_type": "markdown",
   "metadata": {},
   "source": [
    "Logika error model jest taka, że operacje określam na drodze: co zrobić, żeby przejść z poprawnego kandydata do niepoprawnej, rzeczywistej obserwacji:"
   ]
  },
  {
   "cell_type": "code",
   "execution_count": 22,
   "metadata": {},
   "outputs": [
    {
     "name": "stderr",
     "output_type": "stream",
     "text": [
      "/home/pawel/.local/lib/python3.6/site-packages/ipykernel_launcher.py:1: SettingWithCopyWarning: \n",
      "A value is trying to be set on a copy of a slice from a DataFrame.\n",
      "Try using .loc[row_indexer,col_indexer] = value instead\n",
      "\n",
      "See the caveats in the documentation: http://pandas.pydata.org/pandas-docs/stable/indexing.html#indexing-view-versus-copy\n",
      "  \"\"\"Entry point for launching an IPython kernel.\n",
      "/home/pawel/.local/lib/python3.6/site-packages/ipykernel_launcher.py:2: SettingWithCopyWarning: \n",
      "A value is trying to be set on a copy of a slice from a DataFrame.\n",
      "Try using .loc[row_indexer,col_indexer] = value instead\n",
      "\n",
      "See the caveats in the documentation: http://pandas.pydata.org/pandas-docs/stable/indexing.html#indexing-view-versus-copy\n",
      "  \n"
     ]
    }
   ],
   "source": [
    "chosen_errors_unit_distance['basic_type_operation'] = chosen_errors_unit_distance[['correction', 'error']].apply(lambda x: get_basic_operations(*x)[0][0], axis = 1)\n",
    "chosen_errors_unit_distance['nums'] = chosen_errors_unit_distance[['correction', 'error']].apply(lambda x: get_basic_operations(*x)[0][1:], axis = 1)"
   ]
  },
  {
   "cell_type": "code",
   "execution_count": 23,
   "metadata": {},
   "outputs": [
    {
     "data": {
      "text/html": [
       "<div>\n",
       "<style scoped>\n",
       "    .dataframe tbody tr th:only-of-type {\n",
       "        vertical-align: middle;\n",
       "    }\n",
       "\n",
       "    .dataframe tbody tr th {\n",
       "        vertical-align: top;\n",
       "    }\n",
       "\n",
       "    .dataframe thead th {\n",
       "        text-align: right;\n",
       "    }\n",
       "</style>\n",
       "<table border=\"1\" class=\"dataframe\">\n",
       "  <thead>\n",
       "    <tr style=\"text-align: right;\">\n",
       "      <th></th>\n",
       "      <th>text_with_error</th>\n",
       "      <th>corrected_text</th>\n",
       "      <th>is_valid_sentence</th>\n",
       "      <th>error</th>\n",
       "      <th>correction</th>\n",
       "      <th>type</th>\n",
       "      <th>dist</th>\n",
       "      <th>category</th>\n",
       "      <th>file</th>\n",
       "      <th>basic_type_operation</th>\n",
       "      <th>nums</th>\n",
       "    </tr>\n",
       "  </thead>\n",
       "  <tbody>\n",
       "    <tr>\n",
       "      <th>0</th>\n",
       "      <td>Полежан) - najwyższy szczyt w górach Pirin, gr...</td>\n",
       "      <td>Полежан) - najwyższy szczyt w górach Pirin, gr...</td>\n",
       "      <td>False</td>\n",
       "      <td>granotowy,</td>\n",
       "      <td>granitowy,</td>\n",
       "      <td>nonword</td>\n",
       "      <td>1</td>\n",
       "      <td>pisownia</td>\n",
       "      <td>plewic.09.0138.yaml</td>\n",
       "      <td>replace</td>\n",
       "      <td>(4, 4)</td>\n",
       "    </tr>\n",
       "    <tr>\n",
       "      <th>1</th>\n",
       "      <td>Rozpoczyna się przy ulicy Prymasa Stefana Wysz...</td>\n",
       "      <td>Rozpoczyna się przy ulicy Prymasa Stefana Wysz...</td>\n",
       "      <td>True</td>\n",
       "      <td>kościołą</td>\n",
       "      <td>kościoła</td>\n",
       "      <td>nonword</td>\n",
       "      <td>1</td>\n",
       "      <td>znaki diakrytyczne</td>\n",
       "      <td>plewic.09.0138.yaml</td>\n",
       "      <td>replace</td>\n",
       "      <td>(7, 7)</td>\n",
       "    </tr>\n",
       "    <tr>\n",
       "      <th>2</th>\n",
       "      <td>! '... który polski błogosławiny czczony jest ...</td>\n",
       "      <td>! '... który polski błogosławiony czczony jest...</td>\n",
       "      <td>False</td>\n",
       "      <td>błogosławiny</td>\n",
       "      <td>błogosławiony</td>\n",
       "      <td>nonword</td>\n",
       "      <td>1</td>\n",
       "      <td>pisownia</td>\n",
       "      <td>plewic.09.0138.yaml</td>\n",
       "      <td>delete</td>\n",
       "      <td>(10, 10)</td>\n",
       "    </tr>\n",
       "    <tr>\n",
       "      <th>3</th>\n",
       "      <td>! '... że NASA zleciło stworzenie gry komutero...</td>\n",
       "      <td>! '... że NASA zleciło stworzenie gry komputer...</td>\n",
       "      <td>False</td>\n",
       "      <td>komuterowej?</td>\n",
       "      <td>komputerowej?</td>\n",
       "      <td>nonword</td>\n",
       "      <td>1</td>\n",
       "      <td>pisownia</td>\n",
       "      <td>plewic.09.0138.yaml</td>\n",
       "      <td>delete</td>\n",
       "      <td>(3, 3)</td>\n",
       "    </tr>\n",
       "    <tr>\n",
       "      <th>4</th>\n",
       "      <td>V Mistrzostwa Ameryki Południowej w piłce siat...</td>\n",
       "      <td>V Mistrzostwa Ameryki Południowej w piłce siat...</td>\n",
       "      <td>True</td>\n",
       "      <td>Chle</td>\n",
       "      <td>Chile</td>\n",
       "      <td>nonword</td>\n",
       "      <td>1</td>\n",
       "      <td>pisownia</td>\n",
       "      <td>plewic.09.0138.yaml</td>\n",
       "      <td>delete</td>\n",
       "      <td>(2, 2)</td>\n",
       "    </tr>\n",
       "  </tbody>\n",
       "</table>\n",
       "</div>"
      ],
      "text/plain": [
       "                                     text_with_error  \\\n",
       "0  Полежан) - najwyższy szczyt w górach Pirin, gr...   \n",
       "1  Rozpoczyna się przy ulicy Prymasa Stefana Wysz...   \n",
       "2  ! '... który polski błogosławiny czczony jest ...   \n",
       "3  ! '... że NASA zleciło stworzenie gry komutero...   \n",
       "4  V Mistrzostwa Ameryki Południowej w piłce siat...   \n",
       "\n",
       "                                      corrected_text is_valid_sentence  \\\n",
       "0  Полежан) - najwyższy szczyt w górach Pirin, gr...             False   \n",
       "1  Rozpoczyna się przy ulicy Prymasa Stefana Wysz...              True   \n",
       "2  ! '... który polski błogosławiony czczony jest...             False   \n",
       "3  ! '... że NASA zleciło stworzenie gry komputer...             False   \n",
       "4  V Mistrzostwa Ameryki Południowej w piłce siat...              True   \n",
       "\n",
       "          error     correction     type dist            category  \\\n",
       "0    granotowy,     granitowy,  nonword    1            pisownia   \n",
       "1      kościołą       kościoła  nonword    1  znaki diakrytyczne   \n",
       "2  błogosławiny  błogosławiony  nonword    1            pisownia   \n",
       "3  komuterowej?  komputerowej?  nonword    1            pisownia   \n",
       "4          Chle          Chile  nonword    1            pisownia   \n",
       "\n",
       "                  file basic_type_operation      nums  \n",
       "0  plewic.09.0138.yaml              replace    (4, 4)  \n",
       "1  plewic.09.0138.yaml              replace    (7, 7)  \n",
       "2  plewic.09.0138.yaml               delete  (10, 10)  \n",
       "3  plewic.09.0138.yaml               delete    (3, 3)  \n",
       "4  plewic.09.0138.yaml               delete    (2, 2)  "
      ]
     },
     "execution_count": 23,
     "metadata": {},
     "output_type": "execute_result"
    }
   ],
   "source": [
    "chosen_errors_unit_distance.head()"
   ]
  },
  {
   "cell_type": "code",
   "execution_count": 24,
   "metadata": {},
   "outputs": [
    {
     "data": {
      "text/plain": [
       "(548953, 11)"
      ]
     },
     "execution_count": 24,
     "metadata": {},
     "output_type": "execute_result"
    }
   ],
   "source": [
    "chosen_errors_unit_distance.shape"
   ]
  },
  {
   "cell_type": "markdown",
   "metadata": {},
   "source": [
    "Macierze, w którym znajdują się pary liter będę informacją dla modelu na podstawie której model wybierze słowo poprawne. Z tego powodu należy dokonać podziału na dane treningowe i testowe, aby móc dokonać wiarygodnej ewaluacji."
   ]
  },
  {
   "cell_type": "code",
   "execution_count": 25,
   "metadata": {},
   "outputs": [
    {
     "data": {
      "text/plain": [
       "pisownia                       0.542116\n",
       "znaki diakrytyczne             0.340862\n",
       "znaki diakrytyczne/kontekst    0.071514\n",
       "fleksja/liczba                 0.026066\n",
       "składnia                       0.019442\n",
       "Name: category, dtype: float64"
      ]
     },
     "execution_count": 25,
     "metadata": {},
     "output_type": "execute_result"
    }
   ],
   "source": [
    "chosen_errors_unit_distance['category'].value_counts(normalize=True)"
   ]
  },
  {
   "cell_type": "code",
   "execution_count": 26,
   "metadata": {},
   "outputs": [
    {
     "data": {
      "text/plain": [
       "nonword      0.864396\n",
       "realword     0.117019\n",
       "unknown      0.016029\n",
       "multiword    0.002556\n",
       "Name: type, dtype: float64"
      ]
     },
     "execution_count": 26,
     "metadata": {},
     "output_type": "execute_result"
    }
   ],
   "source": [
    "chosen_errors_unit_distance['type'].value_counts(normalize=True)"
   ]
  },
  {
   "cell_type": "markdown",
   "metadata": {},
   "source": [
    "Usuwam kategorie `unknown` oraz `multiword`:"
   ]
  },
  {
   "cell_type": "code",
   "execution_count": 37,
   "metadata": {},
   "outputs": [],
   "source": [
    "delete_mask = (chosen_errors_unit_distance['type'] != 'multiword') & (chosen_errors_unit_distance['type'] != 'unknown')"
   ]
  },
  {
   "cell_type": "code",
   "execution_count": 38,
   "metadata": {},
   "outputs": [],
   "source": [
    "chosen_errors_unit_distance_ready = chosen_errors_unit_distance[delete_mask]"
   ]
  },
  {
   "cell_type": "code",
   "execution_count": 43,
   "metadata": {},
   "outputs": [
    {
     "data": {
      "text/plain": [
       "nonword     474513\n",
       "realword     64238\n",
       "Name: type, dtype: int64"
      ]
     },
     "execution_count": 43,
     "metadata": {},
     "output_type": "execute_result"
    }
   ],
   "source": [
    "chosen_errors_unit_distance['type'].value_counts()"
   ]
  },
  {
   "cell_type": "code",
   "execution_count": 44,
   "metadata": {},
   "outputs": [
    {
     "data": {
      "text/plain": [
       "(538751, 11)"
      ]
     },
     "execution_count": 44,
     "metadata": {},
     "output_type": "execute_result"
    }
   ],
   "source": [
    "chosen_errors_unit_distance.shape"
   ]
  },
  {
   "cell_type": "markdown",
   "metadata": {},
   "source": [
    "Zapisuję jako pickle:"
   ]
  },
  {
   "cell_type": "code",
   "execution_count": 41,
   "metadata": {},
   "outputs": [],
   "source": [
    "with open(\"../pickles/error_chosen_two_categories.p\", \"wb\") as file:\n",
    "    pickle.dump(chosen_errors_unit_distance, file, protocol=pickle.HIGHEST_PROTOCOL)"
   ]
  },
  {
   "cell_type": "markdown",
   "metadata": {},
   "source": [
    "Oba zestawy będą posiadały podobny rozkład `category`. Dokonuję rozkładu ze stratyfikacją. Na razie zostawiam podział 75%/25%, potem o tym poczytam. Zmienną zależną będzie `correction`. Zostawiam w ramce danych tylko następujące kolumny:"
   ]
  },
  {
   "cell_type": "code",
   "execution_count": 58,
   "metadata": {},
   "outputs": [],
   "source": [
    "cols_to_keep = ['error', 'correction', 'type', 'category', 'basic_type_operation', 'nums']"
   ]
  },
  {
   "cell_type": "code",
   "execution_count": 59,
   "metadata": {},
   "outputs": [],
   "source": [
    "chosen_errors_unit_distance = chosen_errors_unit_distance[cols_to_keep]"
   ]
  },
  {
   "cell_type": "code",
   "execution_count": 61,
   "metadata": {},
   "outputs": [],
   "source": [
    "y = chosen_errors_unit_distance['correction']\n",
    "del chosen_errors_unit_distance['correction']"
   ]
  },
  {
   "cell_type": "code",
   "execution_count": 62,
   "metadata": {},
   "outputs": [
    {
     "name": "stderr",
     "output_type": "stream",
     "text": [
      "/home/pawel/.local/lib/python3.6/site-packages/sklearn/model_selection/_split.py:2026: FutureWarning: From version 0.21, test_size will always complement train_size unless both are specified.\n",
      "  FutureWarning)\n"
     ]
    }
   ],
   "source": [
    "X_train, X_test, y_train, y_test = train_test_split(chosen_errors_unit_distance, y, train_size = 0.75, stratify=chosen_errors_unit_distance[['category', 'type']])"
   ]
  },
  {
   "cell_type": "code",
   "execution_count": 66,
   "metadata": {},
   "outputs": [
    {
     "data": {
      "text/plain": [
       "pisownia                       0.540107\n",
       "znaki diakrytyczne             0.340241\n",
       "znaki diakrytyczne/kontekst    0.072861\n",
       "składnia                       0.024064\n",
       "fleksja/liczba                 0.022727\n",
       "Name: category, dtype: float64"
      ]
     },
     "execution_count": 66,
     "metadata": {},
     "output_type": "execute_result"
    }
   ],
   "source": [
    "X_train['category'].value_counts(normalize=True)"
   ]
  },
  {
   "cell_type": "code",
   "execution_count": 67,
   "metadata": {},
   "outputs": [
    {
     "data": {
      "text/plain": [
       "pisownia                       0.539078\n",
       "znaki diakrytyczne             0.340681\n",
       "znaki diakrytyczne/kontekst    0.074148\n",
       "składnia                       0.024048\n",
       "fleksja/liczba                 0.022044\n",
       "Name: category, dtype: float64"
      ]
     },
     "execution_count": 67,
     "metadata": {},
     "output_type": "execute_result"
    }
   ],
   "source": [
    "X_test['category'].value_counts(normalize=True)"
   ]
  },
  {
   "cell_type": "code",
   "execution_count": 72,
   "metadata": {},
   "outputs": [
    {
     "data": {
      "text/plain": [
       "nonword     0.880348\n",
       "realword    0.119652\n",
       "Name: type, dtype: float64"
      ]
     },
     "execution_count": 72,
     "metadata": {},
     "output_type": "execute_result"
    }
   ],
   "source": [
    "X_train['type'].value_counts(normalize=True)"
   ]
  },
  {
   "cell_type": "code",
   "execution_count": 73,
   "metadata": {},
   "outputs": [
    {
     "data": {
      "text/plain": [
       "nonword     0.87976\n",
       "realword    0.12024\n",
       "Name: type, dtype: float64"
      ]
     },
     "execution_count": 73,
     "metadata": {},
     "output_type": "execute_result"
    }
   ],
   "source": [
    "X_test['type'].value_counts(normalize=True)"
   ]
  },
  {
   "cell_type": "markdown",
   "metadata": {},
   "source": [
    "Do ramki testowej z powrotem dołączam kolumnę `correction`:"
   ]
  },
  {
   "cell_type": "code",
   "execution_count": 68,
   "metadata": {},
   "outputs": [
    {
     "name": "stderr",
     "output_type": "stream",
     "text": [
      "/home/pawel/.local/lib/python3.6/site-packages/ipykernel_launcher.py:1: SettingWithCopyWarning: \n",
      "A value is trying to be set on a copy of a slice from a DataFrame.\n",
      "Try using .loc[row_indexer,col_indexer] = value instead\n",
      "\n",
      "See the caveats in the documentation: http://pandas.pydata.org/pandas-docs/stable/indexing.html#indexing-view-versus-copy\n",
      "  \"\"\"Entry point for launching an IPython kernel.\n"
     ]
    }
   ],
   "source": [
    "X_train['correction'] = y_train"
   ]
  },
  {
   "cell_type": "code",
   "execution_count": 70,
   "metadata": {},
   "outputs": [
    {
     "data": {
      "text/html": [
       "<div>\n",
       "<style scoped>\n",
       "    .dataframe tbody tr th:only-of-type {\n",
       "        vertical-align: middle;\n",
       "    }\n",
       "\n",
       "    .dataframe tbody tr th {\n",
       "        vertical-align: top;\n",
       "    }\n",
       "\n",
       "    .dataframe thead th {\n",
       "        text-align: right;\n",
       "    }\n",
       "</style>\n",
       "<table border=\"1\" class=\"dataframe\">\n",
       "  <thead>\n",
       "    <tr style=\"text-align: right;\">\n",
       "      <th></th>\n",
       "      <th>error</th>\n",
       "      <th>type</th>\n",
       "      <th>category</th>\n",
       "      <th>basic_type_operation</th>\n",
       "      <th>nums</th>\n",
       "      <th>correction</th>\n",
       "    </tr>\n",
       "  </thead>\n",
       "  <tbody>\n",
       "    <tr>\n",
       "      <th>629</th>\n",
       "      <td>prowadza</td>\n",
       "      <td>realword</td>\n",
       "      <td>znaki diakrytyczne/kontekst</td>\n",
       "      <td>replace</td>\n",
       "      <td>(7, 7)</td>\n",
       "      <td>prowadzą</td>\n",
       "    </tr>\n",
       "    <tr>\n",
       "      <th>615</th>\n",
       "      <td>nimiecką</td>\n",
       "      <td>nonword</td>\n",
       "      <td>pisownia</td>\n",
       "      <td>insert</td>\n",
       "      <td>(1, 2)</td>\n",
       "      <td>niemiecką</td>\n",
       "    </tr>\n",
       "    <tr>\n",
       "      <th>649</th>\n",
       "      <td>pierwsa</td>\n",
       "      <td>nonword</td>\n",
       "      <td>pisownia</td>\n",
       "      <td>insert</td>\n",
       "      <td>(5, 6)</td>\n",
       "      <td>pierwsza</td>\n",
       "    </tr>\n",
       "    <tr>\n",
       "      <th>607</th>\n",
       "      <td>Karaibskiem</td>\n",
       "      <td>nonword</td>\n",
       "      <td>pisownia</td>\n",
       "      <td>delete</td>\n",
       "      <td>(9, 9)</td>\n",
       "      <td>Karaibskim</td>\n",
       "    </tr>\n",
       "    <tr>\n",
       "      <th>549</th>\n",
       "      <td>włoadzy.</td>\n",
       "      <td>nonword</td>\n",
       "      <td>pisownia</td>\n",
       "      <td>delete</td>\n",
       "      <td>(2, 2)</td>\n",
       "      <td>władzy.</td>\n",
       "    </tr>\n",
       "  </tbody>\n",
       "</table>\n",
       "</div>"
      ],
      "text/plain": [
       "           error      type                     category basic_type_operation  \\\n",
       "629     prowadza  realword  znaki diakrytyczne/kontekst              replace   \n",
       "615     nimiecką   nonword                     pisownia               insert   \n",
       "649      pierwsa   nonword                     pisownia               insert   \n",
       "607  Karaibskiem   nonword                     pisownia               delete   \n",
       "549     włoadzy.   nonword                     pisownia               delete   \n",
       "\n",
       "       nums  correction  \n",
       "629  (7, 7)    prowadzą  \n",
       "615  (1, 2)   niemiecką  \n",
       "649  (5, 6)    pierwsza  \n",
       "607  (9, 9)  Karaibskim  \n",
       "549  (2, 2)     władzy.  "
      ]
     },
     "execution_count": 70,
     "metadata": {},
     "output_type": "execute_result"
    }
   ],
   "source": [
    "X_train.head()"
   ]
  },
  {
   "cell_type": "code",
   "execution_count": 75,
   "metadata": {},
   "outputs": [
    {
     "data": {
      "text/plain": [
       "replace      825\n",
       "insert       389\n",
       "delete       187\n",
       "transpose     95\n",
       "Name: basic_type_operation, dtype: int64"
      ]
     },
     "execution_count": 75,
     "metadata": {},
     "output_type": "execute_result"
    }
   ],
   "source": [
    "X_train['basic_type_operation'].value_counts()"
   ]
  },
  {
   "cell_type": "markdown",
   "metadata": {},
   "source": [
    "Tworzę kolumnę na podstawie wcześniej wspomnianych par liter:"
   ]
  },
  {
   "cell_type": "code",
   "execution_count": 81,
   "metadata": {},
   "outputs": [
    {
     "name": "stderr",
     "output_type": "stream",
     "text": [
      "/home/pawel/.local/lib/python3.6/site-packages/ipykernel_launcher.py:13: SettingWithCopyWarning: \n",
      "A value is trying to be set on a copy of a slice from a DataFrame.\n",
      "Try using .loc[row_indexer,col_indexer] = value instead\n",
      "\n",
      "See the caveats in the documentation: http://pandas.pydata.org/pandas-docs/stable/indexing.html#indexing-view-versus-copy\n",
      "  del sys.path[0]\n"
     ]
    },
    {
     "data": {
      "text/html": [
       "<div>\n",
       "<style scoped>\n",
       "    .dataframe tbody tr th:only-of-type {\n",
       "        vertical-align: middle;\n",
       "    }\n",
       "\n",
       "    .dataframe tbody tr th {\n",
       "        vertical-align: top;\n",
       "    }\n",
       "\n",
       "    .dataframe thead th {\n",
       "        text-align: right;\n",
       "    }\n",
       "</style>\n",
       "<table border=\"1\" class=\"dataframe\">\n",
       "  <thead>\n",
       "    <tr style=\"text-align: right;\">\n",
       "      <th></th>\n",
       "      <th>error</th>\n",
       "      <th>type</th>\n",
       "      <th>category</th>\n",
       "      <th>basic_type_operation</th>\n",
       "      <th>nums</th>\n",
       "      <th>correction</th>\n",
       "      <th>letter_pairs</th>\n",
       "    </tr>\n",
       "  </thead>\n",
       "  <tbody>\n",
       "    <tr>\n",
       "      <th>629</th>\n",
       "      <td>prowadza</td>\n",
       "      <td>realword</td>\n",
       "      <td>znaki diakrytyczne/kontekst</td>\n",
       "      <td>replace</td>\n",
       "      <td>(7, 7)</td>\n",
       "      <td>prowadzą</td>\n",
       "      <td>(a, ą)</td>\n",
       "    </tr>\n",
       "    <tr>\n",
       "      <th>615</th>\n",
       "      <td>nimiecką</td>\n",
       "      <td>nonword</td>\n",
       "      <td>pisownia</td>\n",
       "      <td>insert</td>\n",
       "      <td>(1, 2)</td>\n",
       "      <td>niemiecką</td>\n",
       "      <td>(i, e)</td>\n",
       "    </tr>\n",
       "    <tr>\n",
       "      <th>649</th>\n",
       "      <td>pierwsa</td>\n",
       "      <td>nonword</td>\n",
       "      <td>pisownia</td>\n",
       "      <td>insert</td>\n",
       "      <td>(5, 6)</td>\n",
       "      <td>pierwsza</td>\n",
       "      <td>(s, z)</td>\n",
       "    </tr>\n",
       "    <tr>\n",
       "      <th>607</th>\n",
       "      <td>Karaibskiem</td>\n",
       "      <td>nonword</td>\n",
       "      <td>pisownia</td>\n",
       "      <td>delete</td>\n",
       "      <td>(9, 9)</td>\n",
       "      <td>Karaibskim</td>\n",
       "      <td>(i, e)</td>\n",
       "    </tr>\n",
       "    <tr>\n",
       "      <th>549</th>\n",
       "      <td>włoadzy.</td>\n",
       "      <td>nonword</td>\n",
       "      <td>pisownia</td>\n",
       "      <td>delete</td>\n",
       "      <td>(2, 2)</td>\n",
       "      <td>władzy.</td>\n",
       "      <td>(ł, o)</td>\n",
       "    </tr>\n",
       "  </tbody>\n",
       "</table>\n",
       "</div>"
      ],
      "text/plain": [
       "           error      type                     category basic_type_operation  \\\n",
       "629     prowadza  realword  znaki diakrytyczne/kontekst              replace   \n",
       "615     nimiecką   nonword                     pisownia               insert   \n",
       "649      pierwsa   nonword                     pisownia               insert   \n",
       "607  Karaibskiem   nonword                     pisownia               delete   \n",
       "549     włoadzy.   nonword                     pisownia               delete   \n",
       "\n",
       "       nums  correction letter_pairs  \n",
       "629  (7, 7)    prowadzą       (a, ą)  \n",
       "615  (1, 2)   niemiecką       (i, e)  \n",
       "649  (5, 6)    pierwsza       (s, z)  \n",
       "607  (9, 9)  Karaibskim       (i, e)  \n",
       "549  (2, 2)     władzy.       (ł, o)  "
      ]
     },
     "execution_count": 81,
     "metadata": {},
     "output_type": "execute_result"
    }
   ],
   "source": [
    "# pamiętaj o użyciu axis = 1\n",
    "def create_column_with_letters(nums, basic_type, error, correction):\n",
    "    if basic_type == 'insert':\n",
    "        return (error[nums[0]], correction[nums[1]])\n",
    "    elif basic_type == 'delete':\n",
    "        return (error[nums[0]-1], error[nums[0]])\n",
    "    elif basic_type == 'replace':\n",
    "        return (error[nums[0]], correction[nums[1]])\n",
    "    else:\n",
    "        # transposition\n",
    "        return (error[nums[0]], error[nums[1]])\n",
    "\n",
    "X_train['letter_pairs'] = X_train[['nums', 'basic_type_operation', 'error', 'correction']].apply(lambda x: create_column_with_letters(*x), axis=1)\n",
    "X_train.head()"
   ]
  },
  {
   "cell_type": "markdown",
   "metadata": {},
   "source": [
    "## Przygotowanie macierzy błędów"
   ]
  },
  {
   "cell_type": "code",
   "execution_count": 4,
   "metadata": {},
   "outputs": [],
   "source": [
    "with open('../pickles/error_chosen_two_categories.p', 'rb') as file:\n",
    "    error_chosen_two_categories = pickle.load(file)"
   ]
  },
  {
   "cell_type": "code",
   "execution_count": 5,
   "metadata": {},
   "outputs": [
    {
     "data": {
      "text/html": [
       "<div>\n",
       "<style scoped>\n",
       "    .dataframe tbody tr th:only-of-type {\n",
       "        vertical-align: middle;\n",
       "    }\n",
       "\n",
       "    .dataframe tbody tr th {\n",
       "        vertical-align: top;\n",
       "    }\n",
       "\n",
       "    .dataframe thead th {\n",
       "        text-align: right;\n",
       "    }\n",
       "</style>\n",
       "<table border=\"1\" class=\"dataframe\">\n",
       "  <thead>\n",
       "    <tr style=\"text-align: right;\">\n",
       "      <th></th>\n",
       "      <th>text_with_error</th>\n",
       "      <th>corrected_text</th>\n",
       "      <th>is_valid_sentence</th>\n",
       "      <th>error</th>\n",
       "      <th>correction</th>\n",
       "      <th>type</th>\n",
       "      <th>dist</th>\n",
       "      <th>category</th>\n",
       "      <th>file</th>\n",
       "      <th>basic_type_operation</th>\n",
       "      <th>nums</th>\n",
       "    </tr>\n",
       "  </thead>\n",
       "  <tbody>\n",
       "    <tr>\n",
       "      <th>0</th>\n",
       "      <td>Полежан) - najwyższy szczyt w górach Pirin, gr...</td>\n",
       "      <td>Полежан) - najwyższy szczyt w górach Pirin, gr...</td>\n",
       "      <td>False</td>\n",
       "      <td>granotowy,</td>\n",
       "      <td>granitowy,</td>\n",
       "      <td>nonword</td>\n",
       "      <td>1</td>\n",
       "      <td>pisownia</td>\n",
       "      <td>plewic.09.0138.yaml</td>\n",
       "      <td>replace</td>\n",
       "      <td>(4, 4)</td>\n",
       "    </tr>\n",
       "    <tr>\n",
       "      <th>1</th>\n",
       "      <td>Rozpoczyna się przy ulicy Prymasa Stefana Wysz...</td>\n",
       "      <td>Rozpoczyna się przy ulicy Prymasa Stefana Wysz...</td>\n",
       "      <td>True</td>\n",
       "      <td>kościołą</td>\n",
       "      <td>kościoła</td>\n",
       "      <td>nonword</td>\n",
       "      <td>1</td>\n",
       "      <td>znaki diakrytyczne</td>\n",
       "      <td>plewic.09.0138.yaml</td>\n",
       "      <td>replace</td>\n",
       "      <td>(7, 7)</td>\n",
       "    </tr>\n",
       "    <tr>\n",
       "      <th>2</th>\n",
       "      <td>! '... który polski błogosławiny czczony jest ...</td>\n",
       "      <td>! '... który polski błogosławiony czczony jest...</td>\n",
       "      <td>False</td>\n",
       "      <td>błogosławiny</td>\n",
       "      <td>błogosławiony</td>\n",
       "      <td>nonword</td>\n",
       "      <td>1</td>\n",
       "      <td>pisownia</td>\n",
       "      <td>plewic.09.0138.yaml</td>\n",
       "      <td>delete</td>\n",
       "      <td>(10, 10)</td>\n",
       "    </tr>\n",
       "    <tr>\n",
       "      <th>3</th>\n",
       "      <td>! '... że NASA zleciło stworzenie gry komutero...</td>\n",
       "      <td>! '... że NASA zleciło stworzenie gry komputer...</td>\n",
       "      <td>False</td>\n",
       "      <td>komuterowej?</td>\n",
       "      <td>komputerowej?</td>\n",
       "      <td>nonword</td>\n",
       "      <td>1</td>\n",
       "      <td>pisownia</td>\n",
       "      <td>plewic.09.0138.yaml</td>\n",
       "      <td>delete</td>\n",
       "      <td>(3, 3)</td>\n",
       "    </tr>\n",
       "    <tr>\n",
       "      <th>4</th>\n",
       "      <td>V Mistrzostwa Ameryki Południowej w piłce siat...</td>\n",
       "      <td>V Mistrzostwa Ameryki Południowej w piłce siat...</td>\n",
       "      <td>True</td>\n",
       "      <td>Chle</td>\n",
       "      <td>Chile</td>\n",
       "      <td>nonword</td>\n",
       "      <td>1</td>\n",
       "      <td>pisownia</td>\n",
       "      <td>plewic.09.0138.yaml</td>\n",
       "      <td>delete</td>\n",
       "      <td>(2, 2)</td>\n",
       "    </tr>\n",
       "  </tbody>\n",
       "</table>\n",
       "</div>"
      ],
      "text/plain": [
       "                                     text_with_error  \\\n",
       "0  Полежан) - najwyższy szczyt w górach Pirin, gr...   \n",
       "1  Rozpoczyna się przy ulicy Prymasa Stefana Wysz...   \n",
       "2  ! '... który polski błogosławiny czczony jest ...   \n",
       "3  ! '... że NASA zleciło stworzenie gry komutero...   \n",
       "4  V Mistrzostwa Ameryki Południowej w piłce siat...   \n",
       "\n",
       "                                      corrected_text is_valid_sentence  \\\n",
       "0  Полежан) - najwyższy szczyt w górach Pirin, gr...             False   \n",
       "1  Rozpoczyna się przy ulicy Prymasa Stefana Wysz...              True   \n",
       "2  ! '... który polski błogosławiony czczony jest...             False   \n",
       "3  ! '... że NASA zleciło stworzenie gry komputer...             False   \n",
       "4  V Mistrzostwa Ameryki Południowej w piłce siat...              True   \n",
       "\n",
       "          error     correction     type dist            category  \\\n",
       "0    granotowy,     granitowy,  nonword    1            pisownia   \n",
       "1      kościołą       kościoła  nonword    1  znaki diakrytyczne   \n",
       "2  błogosławiny  błogosławiony  nonword    1            pisownia   \n",
       "3  komuterowej?  komputerowej?  nonword    1            pisownia   \n",
       "4          Chle          Chile  nonword    1            pisownia   \n",
       "\n",
       "                  file basic_type_operation      nums  \n",
       "0  plewic.09.0138.yaml              replace    (4, 4)  \n",
       "1  plewic.09.0138.yaml              replace    (7, 7)  \n",
       "2  plewic.09.0138.yaml               delete  (10, 10)  \n",
       "3  plewic.09.0138.yaml               delete    (3, 3)  \n",
       "4  plewic.09.0138.yaml               delete    (2, 2)  "
      ]
     },
     "execution_count": 5,
     "metadata": {},
     "output_type": "execute_result"
    }
   ],
   "source": [
    "error_chosen_two_categories.head()"
   ]
  },
  {
   "cell_type": "code",
   "execution_count": 7,
   "metadata": {},
   "outputs": [
    {
     "data": {
      "text/plain": [
       "array(['1'], dtype=object)"
      ]
     },
     "execution_count": 7,
     "metadata": {},
     "output_type": "execute_result"
    }
   ],
   "source": [
    "error_chosen_two_categories['dist'].unique()"
   ]
  },
  {
   "cell_type": "markdown",
   "metadata": {},
   "source": [
    "Usuwam kolumnę `correction`, która będzie zmienną zależną."
   ]
  },
  {
   "cell_type": "code",
   "execution_count": 8,
   "metadata": {},
   "outputs": [],
   "source": [
    "y = error_chosen_two_categories['correction']\n",
    "del error_chosen_two_categories['correction']"
   ]
  },
  {
   "cell_type": "markdown",
   "metadata": {},
   "source": [
    "Podział na dane treningowe i testowe ze stratyfikacją:"
   ]
  },
  {
   "cell_type": "code",
   "execution_count": 9,
   "metadata": {},
   "outputs": [
    {
     "name": "stderr",
     "output_type": "stream",
     "text": [
      "/home/pawel/.local/lib/python3.6/site-packages/sklearn/model_selection/_split.py:2026: FutureWarning: From version 0.21, test_size will always complement train_size unless both are specified.\n",
      "  FutureWarning)\n"
     ]
    }
   ],
   "source": [
    "X_train, X_test, y_train, y_test = train_test_split(error_chosen_two_categories, y, train_size = 0.75, stratify=error_chosen_two_categories[['category', 'type']])"
   ]
  },
  {
   "cell_type": "code",
   "execution_count": 19,
   "metadata": {},
   "outputs": [],
   "source": [
    "test_train = [X_train, X_test, y_train, y_test]\n",
    "\n",
    "with open('../pickles/test_train.dat', 'wb') as f:\n",
    "    pickle.dump(test_train, f)"
   ]
  },
  {
   "cell_type": "markdown",
   "metadata": {},
   "source": [
    "Do stworzenia macierzy liter będzie potrzbny mi zestaw treningowy z zmienną zależną:"
   ]
  },
  {
   "cell_type": "code",
   "execution_count": 12,
   "metadata": {},
   "outputs": [
    {
     "name": "stderr",
     "output_type": "stream",
     "text": [
      "/home/pawel/.local/lib/python3.6/site-packages/ipykernel_launcher.py:1: SettingWithCopyWarning: \n",
      "A value is trying to be set on a copy of a slice from a DataFrame.\n",
      "Try using .loc[row_indexer,col_indexer] = value instead\n",
      "\n",
      "See the caveats in the documentation: http://pandas.pydata.org/pandas-docs/stable/indexing.html#indexing-view-versus-copy\n",
      "  \"\"\"Entry point for launching an IPython kernel.\n"
     ]
    }
   ],
   "source": [
    "X_train['correction'] = y_train"
   ]
  },
  {
   "cell_type": "code",
   "execution_count": 13,
   "metadata": {},
   "outputs": [
    {
     "data": {
      "text/html": [
       "<div>\n",
       "<style scoped>\n",
       "    .dataframe tbody tr th:only-of-type {\n",
       "        vertical-align: middle;\n",
       "    }\n",
       "\n",
       "    .dataframe tbody tr th {\n",
       "        vertical-align: top;\n",
       "    }\n",
       "\n",
       "    .dataframe thead th {\n",
       "        text-align: right;\n",
       "    }\n",
       "</style>\n",
       "<table border=\"1\" class=\"dataframe\">\n",
       "  <thead>\n",
       "    <tr style=\"text-align: right;\">\n",
       "      <th></th>\n",
       "      <th>text_with_error</th>\n",
       "      <th>corrected_text</th>\n",
       "      <th>is_valid_sentence</th>\n",
       "      <th>error</th>\n",
       "      <th>type</th>\n",
       "      <th>dist</th>\n",
       "      <th>category</th>\n",
       "      <th>file</th>\n",
       "      <th>basic_type_operation</th>\n",
       "      <th>nums</th>\n",
       "      <th>correction</th>\n",
       "    </tr>\n",
       "  </thead>\n",
       "  <tbody>\n",
       "    <tr>\n",
       "      <th>119</th>\n",
       "      <td>Pod koniec tego samego roku przszło na świat d...</td>\n",
       "      <td>Pod koniec tego samego roku przyszło na świat ...</td>\n",
       "      <td>True</td>\n",
       "      <td>przszło</td>\n",
       "      <td>nonword</td>\n",
       "      <td>1</td>\n",
       "      <td>pisownia</td>\n",
       "      <td>plewic.01.0427.yaml</td>\n",
       "      <td>delete</td>\n",
       "      <td>(3, 3)</td>\n",
       "      <td>przyszło</td>\n",
       "    </tr>\n",
       "    <tr>\n",
       "      <th>296</th>\n",
       "      <td>Zna powiązania Eliasza z mesjanistycznymi ocze...</td>\n",
       "      <td>Zna powiązania Eliasza z mesjanistycznymi ocze...</td>\n",
       "      <td>True</td>\n",
       "      <td>wię,</td>\n",
       "      <td>nonword</td>\n",
       "      <td>1</td>\n",
       "      <td>znaki diakrytyczne</td>\n",
       "      <td>plewic.01.0040.yaml</td>\n",
       "      <td>replace</td>\n",
       "      <td>(2, 2)</td>\n",
       "      <td>wie,</td>\n",
       "    </tr>\n",
       "    <tr>\n",
       "      <th>441</th>\n",
       "      <td>Na początku cala okolica byla osobną wioską, s...</td>\n",
       "      <td>Na początku cała okolica była osobną wioską, s...</td>\n",
       "      <td>True</td>\n",
       "      <td>cala</td>\n",
       "      <td>realword</td>\n",
       "      <td>1</td>\n",
       "      <td>znaki diakrytyczne/kontekst</td>\n",
       "      <td>plewic.01.0026.yaml</td>\n",
       "      <td>replace</td>\n",
       "      <td>(2, 2)</td>\n",
       "      <td>cała</td>\n",
       "    </tr>\n",
       "    <tr>\n",
       "      <th>440</th>\n",
       "      <td>Była więc to działalnośc analogiczna do tej, k...</td>\n",
       "      <td>Była więc to działalność analogiczna do tej, k...</td>\n",
       "      <td>True</td>\n",
       "      <td>działalnośc</td>\n",
       "      <td>nonword</td>\n",
       "      <td>1</td>\n",
       "      <td>znaki diakrytyczne</td>\n",
       "      <td>plewic.04.0067.yaml</td>\n",
       "      <td>replace</td>\n",
       "      <td>(10, 10)</td>\n",
       "      <td>działalność</td>\n",
       "    </tr>\n",
       "    <tr>\n",
       "      <th>26</th>\n",
       "      <td>Kościół posiada nawę z dwoma podcieniami i cen...</td>\n",
       "      <td>Kościół posiada nawę z dwoma podcieniami i cen...</td>\n",
       "      <td>True</td>\n",
       "      <td>podwyzszonym</td>\n",
       "      <td>nonword</td>\n",
       "      <td>1</td>\n",
       "      <td>znaki diakrytyczne</td>\n",
       "      <td>plewic.01.0036.yaml</td>\n",
       "      <td>replace</td>\n",
       "      <td>(5, 5)</td>\n",
       "      <td>podwyższonym</td>\n",
       "    </tr>\n",
       "  </tbody>\n",
       "</table>\n",
       "</div>"
      ],
      "text/plain": [
       "                                       text_with_error  \\\n",
       "119  Pod koniec tego samego roku przszło na świat d...   \n",
       "296  Zna powiązania Eliasza z mesjanistycznymi ocze...   \n",
       "441  Na początku cala okolica byla osobną wioską, s...   \n",
       "440  Była więc to działalnośc analogiczna do tej, k...   \n",
       "26   Kościół posiada nawę z dwoma podcieniami i cen...   \n",
       "\n",
       "                                        corrected_text is_valid_sentence  \\\n",
       "119  Pod koniec tego samego roku przyszło na świat ...              True   \n",
       "296  Zna powiązania Eliasza z mesjanistycznymi ocze...              True   \n",
       "441  Na początku cała okolica była osobną wioską, s...              True   \n",
       "440  Była więc to działalność analogiczna do tej, k...              True   \n",
       "26   Kościół posiada nawę z dwoma podcieniami i cen...              True   \n",
       "\n",
       "            error      type dist                     category  \\\n",
       "119       przszło   nonword    1                     pisownia   \n",
       "296          wię,   nonword    1           znaki diakrytyczne   \n",
       "441          cala  realword    1  znaki diakrytyczne/kontekst   \n",
       "440   działalnośc   nonword    1           znaki diakrytyczne   \n",
       "26   podwyzszonym   nonword    1           znaki diakrytyczne   \n",
       "\n",
       "                    file basic_type_operation      nums    correction  \n",
       "119  plewic.01.0427.yaml               delete    (3, 3)      przyszło  \n",
       "296  plewic.01.0040.yaml              replace    (2, 2)          wie,  \n",
       "441  plewic.01.0026.yaml              replace    (2, 2)          cała  \n",
       "440  plewic.04.0067.yaml              replace  (10, 10)   działalność  \n",
       "26   plewic.01.0036.yaml              replace    (5, 5)  podwyższonym  "
      ]
     },
     "execution_count": 13,
     "metadata": {},
     "output_type": "execute_result"
    }
   ],
   "source": [
    "X_train.head()"
   ]
  }
 ],
 "metadata": {
  "kernelspec": {
   "display_name": "Python 3",
   "language": "python",
   "name": "python3"
  },
  "language_info": {
   "codemirror_mode": {
    "name": "ipython",
    "version": 3
   },
   "file_extension": ".py",
   "mimetype": "text/x-python",
   "name": "python",
   "nbconvert_exporter": "python",
   "pygments_lexer": "ipython3",
   "version": "3.6.8"
  }
 },
 "nbformat": 4,
 "nbformat_minor": 2
}
